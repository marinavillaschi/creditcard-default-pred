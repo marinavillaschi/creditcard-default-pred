{
  "cells": [
    {
      "cell_type": "markdown",
      "metadata": {
        "colab_type": "text",
        "id": "view-in-github"
      },
      "source": [
        "<a href=\"https://colab.research.google.com/github/marinavillaschi/englishportfolio_datascience_mpv/blob/main/Credit_Card_Default_Prediction.ipynb\" target=\"_parent\"><img src=\"https://colab.research.google.com/assets/colab-badge.svg\" alt=\"Open In Colab\"/></a>"
      ]
    },
    {
      "cell_type": "markdown",
      "metadata": {
        "id": "eIe9BnBma4q_"
      },
      "source": [
        "# **Credit Card Default Prediction**\n",
        "\n",
        "*by [Marina Villaschi](https://www.linkedin.com/in/marinavillaschi/?locale=en_US)*\n",
        "\n",
        "<center><img width=\"80%\" src=\"http://images.unsplash.com/photo-1607863680198-23d4b2565df0?ixlib=rb-1.2.1&q=80&fm=jpg&crop=entropy&cs=tinysrgb&w=1080&fit=max\"></center>\n",
        "\n",
        "\n",
        "<center>Photo by <a href=\"https://unsplash.com/@andretaissin?utm_source=unsplash&utm_medium=referral&utm_content=creditCopyText\">Andre Taissin</a> on <a href=\"https://unsplash.com/s/photos/coin-bank?utm_source=unsplash&utm_medium=referral&utm_content=creditCopyText\">Unsplash</a><center>\n",
        " \n",
        "\n",
        "\n"
      ]
    },
    {
      "cell_type": "markdown",
      "metadata": {
        "id": "98u1nL9ib3Pc"
      },
      "source": [
        "Client default is a great challenge finance institutions face that can cause great loss. Being able to predict it is important so companies can save and avoid losses.\n",
        "\n",
        "financial institutions -big banks and fintechs- are increasing the investment in AI and ML with the purpose of predicting default and as a result minimizing it.\n",
        "\n",
        "> This project's task is to do that: to **predict credit card client default**.\n",
        "\n",
        "\n",
        "\n",
        "\n",
        "\n"
      ]
    },
    {
      "cell_type": "code",
      "execution_count": 81,
      "metadata": {
        "id": "g0di6_xqdE00"
      },
      "outputs": [],
      "source": [
        "# ignore warnings\n",
        "from warnings import simplefilter\n",
        "simplefilter(action='ignore', category=FutureWarning)\n",
        "\n",
        "# install pandas profiling\n",
        "!pip install scikit-plot -q\n",
        "!pip install imbalanced-learn -q\n",
        "\n",
        "# import libraries\n",
        "import numpy as np\n",
        "import pandas as pd\n",
        "import matplotlib.pyplot as plt\n",
        "import seaborn as sns\n",
        "\n",
        "# random seed\n",
        "np.random.seed(1)"
      ]
    },
    {
      "cell_type": "markdown",
      "metadata": {
        "id": "w8pbHkvTb6zu"
      },
      "source": [
        "## Collecting data\n",
        "\n",
        "The *Default of Credit Card Clients Dataset* dataset used on this project was obtained from UCI Machine Learning Repository available on [kaggle](https://www.kaggle.com/uciml/default-of-credit-card-clients-dataset). It contains information on default payments, demographic factors, credit data, history of payment, and bill statements of credit card **clients in Taiwan from April 2005 to September 2005**.\n",
        "\n",
        "\n",
        "\n",
        "### Acknowledgements\n",
        "\n",
        "The original dataset is from [UCI Machine Learning Repository](https://archive.ics.uci.edu/ml/datasets/default+of+credit+card+clients).\n",
        "\n",
        "Lichman, M. (2013). UCI Machine Learning Repository (http://archive.ics.uci.edu/ml) . Irvine, CA: University of California, School of Information and Computer Science.\n",
        "\n"
      ]
    },
    {
      "cell_type": "code",
      "execution_count": 82,
      "metadata": {
        "id": "yEHaoCF_mauZ"
      },
      "outputs": [],
      "source": [
        "# importing csv file to a DataFrame\n",
        "df = pd.read_csv('https://raw.githubusercontent.com/marinavillaschi/creditcard-default-pred/main/data/UCI_Credit_Card.csv')"
      ]
    },
    {
      "cell_type": "markdown",
      "metadata": {
        "id": "seudW608nEJO"
      },
      "source": [
        "## EDA\n",
        "\n",
        "Once we have our dataset on a pandas dataframe we can get started on step one of any Machine Learning project which is the exploratory data analysis. We will get to know our data to be able to get insights from it."
      ]
    },
    {
      "cell_type": "markdown",
      "metadata": {
        "id": "Ea2q79tqPbcX"
      },
      "source": [
        "### Features and entries\n",
        "\n",
        "\n",
        "Let's take a look at:\n",
        "\n",
        "* the size of the dataframe"
      ]
    },
    {
      "cell_type": "code",
      "execution_count": 83,
      "metadata": {
        "colab": {
          "base_uri": "https://localhost:8080/"
        },
        "id": "k91pCuBjQrKx",
        "outputId": "8ec535b5-dc1c-48bb-992c-0adf8f6dfd08"
      },
      "outputs": [
        {
          "name": "stdout",
          "output_type": "stream",
          "text": [
            "Entries:   30000 \n",
            "Features:  25\n"
          ]
        }
      ],
      "source": [
        "# print the size of the dataframe\n",
        "print(\"Entries:  \", df.shape[0], \"\\nFeatures: \", df.shape[1])"
      ]
    },
    {
      "cell_type": "markdown",
      "metadata": {
        "id": "-cD658jgQMq-"
      },
      "source": [
        "* As primeiras entradas do dataframe\n",
        "\n"
      ]
    },
    {
      "cell_type": "code",
      "execution_count": 84,
      "metadata": {
        "colab": {
          "base_uri": "https://localhost:8080/",
          "height": 224
        },
        "id": "2z-kusxNnD4k",
        "outputId": "00b786ef-cf3b-4800-9aa0-98163dcd512c"
      },
      "outputs": [
        {
          "data": {
            "text/html": [
              "<div>\n",
              "<style scoped>\n",
              "    .dataframe tbody tr th:only-of-type {\n",
              "        vertical-align: middle;\n",
              "    }\n",
              "\n",
              "    .dataframe tbody tr th {\n",
              "        vertical-align: top;\n",
              "    }\n",
              "\n",
              "    .dataframe thead th {\n",
              "        text-align: right;\n",
              "    }\n",
              "</style>\n",
              "<table border=\"1\" class=\"dataframe\">\n",
              "  <thead>\n",
              "    <tr style=\"text-align: right;\">\n",
              "      <th></th>\n",
              "      <th>ID</th>\n",
              "      <th>LIMIT_BAL</th>\n",
              "      <th>SEX</th>\n",
              "      <th>EDUCATION</th>\n",
              "      <th>MARRIAGE</th>\n",
              "      <th>AGE</th>\n",
              "      <th>PAY_0</th>\n",
              "      <th>PAY_2</th>\n",
              "      <th>PAY_3</th>\n",
              "      <th>PAY_4</th>\n",
              "      <th>PAY_5</th>\n",
              "      <th>PAY_6</th>\n",
              "      <th>BILL_AMT1</th>\n",
              "      <th>BILL_AMT2</th>\n",
              "      <th>BILL_AMT3</th>\n",
              "      <th>BILL_AMT4</th>\n",
              "      <th>BILL_AMT5</th>\n",
              "      <th>BILL_AMT6</th>\n",
              "      <th>PAY_AMT1</th>\n",
              "      <th>PAY_AMT2</th>\n",
              "      <th>PAY_AMT3</th>\n",
              "      <th>PAY_AMT4</th>\n",
              "      <th>PAY_AMT5</th>\n",
              "      <th>PAY_AMT6</th>\n",
              "      <th>default.payment.next.month</th>\n",
              "    </tr>\n",
              "  </thead>\n",
              "  <tbody>\n",
              "    <tr>\n",
              "      <th>0</th>\n",
              "      <td>1</td>\n",
              "      <td>20000.0</td>\n",
              "      <td>2</td>\n",
              "      <td>2</td>\n",
              "      <td>1</td>\n",
              "      <td>24</td>\n",
              "      <td>2</td>\n",
              "      <td>2</td>\n",
              "      <td>-1</td>\n",
              "      <td>-1</td>\n",
              "      <td>-2</td>\n",
              "      <td>-2</td>\n",
              "      <td>3913.0</td>\n",
              "      <td>3102.0</td>\n",
              "      <td>689.0</td>\n",
              "      <td>0.0</td>\n",
              "      <td>0.0</td>\n",
              "      <td>0.0</td>\n",
              "      <td>0.0</td>\n",
              "      <td>689.0</td>\n",
              "      <td>0.0</td>\n",
              "      <td>0.0</td>\n",
              "      <td>0.0</td>\n",
              "      <td>0.0</td>\n",
              "      <td>1</td>\n",
              "    </tr>\n",
              "    <tr>\n",
              "      <th>1</th>\n",
              "      <td>2</td>\n",
              "      <td>120000.0</td>\n",
              "      <td>2</td>\n",
              "      <td>2</td>\n",
              "      <td>2</td>\n",
              "      <td>26</td>\n",
              "      <td>-1</td>\n",
              "      <td>2</td>\n",
              "      <td>0</td>\n",
              "      <td>0</td>\n",
              "      <td>0</td>\n",
              "      <td>2</td>\n",
              "      <td>2682.0</td>\n",
              "      <td>1725.0</td>\n",
              "      <td>2682.0</td>\n",
              "      <td>3272.0</td>\n",
              "      <td>3455.0</td>\n",
              "      <td>3261.0</td>\n",
              "      <td>0.0</td>\n",
              "      <td>1000.0</td>\n",
              "      <td>1000.0</td>\n",
              "      <td>1000.0</td>\n",
              "      <td>0.0</td>\n",
              "      <td>2000.0</td>\n",
              "      <td>1</td>\n",
              "    </tr>\n",
              "    <tr>\n",
              "      <th>2</th>\n",
              "      <td>3</td>\n",
              "      <td>90000.0</td>\n",
              "      <td>2</td>\n",
              "      <td>2</td>\n",
              "      <td>2</td>\n",
              "      <td>34</td>\n",
              "      <td>0</td>\n",
              "      <td>0</td>\n",
              "      <td>0</td>\n",
              "      <td>0</td>\n",
              "      <td>0</td>\n",
              "      <td>0</td>\n",
              "      <td>29239.0</td>\n",
              "      <td>14027.0</td>\n",
              "      <td>13559.0</td>\n",
              "      <td>14331.0</td>\n",
              "      <td>14948.0</td>\n",
              "      <td>15549.0</td>\n",
              "      <td>1518.0</td>\n",
              "      <td>1500.0</td>\n",
              "      <td>1000.0</td>\n",
              "      <td>1000.0</td>\n",
              "      <td>1000.0</td>\n",
              "      <td>5000.0</td>\n",
              "      <td>0</td>\n",
              "    </tr>\n",
              "    <tr>\n",
              "      <th>3</th>\n",
              "      <td>4</td>\n",
              "      <td>50000.0</td>\n",
              "      <td>2</td>\n",
              "      <td>2</td>\n",
              "      <td>1</td>\n",
              "      <td>37</td>\n",
              "      <td>0</td>\n",
              "      <td>0</td>\n",
              "      <td>0</td>\n",
              "      <td>0</td>\n",
              "      <td>0</td>\n",
              "      <td>0</td>\n",
              "      <td>46990.0</td>\n",
              "      <td>48233.0</td>\n",
              "      <td>49291.0</td>\n",
              "      <td>28314.0</td>\n",
              "      <td>28959.0</td>\n",
              "      <td>29547.0</td>\n",
              "      <td>2000.0</td>\n",
              "      <td>2019.0</td>\n",
              "      <td>1200.0</td>\n",
              "      <td>1100.0</td>\n",
              "      <td>1069.0</td>\n",
              "      <td>1000.0</td>\n",
              "      <td>0</td>\n",
              "    </tr>\n",
              "    <tr>\n",
              "      <th>4</th>\n",
              "      <td>5</td>\n",
              "      <td>50000.0</td>\n",
              "      <td>1</td>\n",
              "      <td>2</td>\n",
              "      <td>1</td>\n",
              "      <td>57</td>\n",
              "      <td>-1</td>\n",
              "      <td>0</td>\n",
              "      <td>-1</td>\n",
              "      <td>0</td>\n",
              "      <td>0</td>\n",
              "      <td>0</td>\n",
              "      <td>8617.0</td>\n",
              "      <td>5670.0</td>\n",
              "      <td>35835.0</td>\n",
              "      <td>20940.0</td>\n",
              "      <td>19146.0</td>\n",
              "      <td>19131.0</td>\n",
              "      <td>2000.0</td>\n",
              "      <td>36681.0</td>\n",
              "      <td>10000.0</td>\n",
              "      <td>9000.0</td>\n",
              "      <td>689.0</td>\n",
              "      <td>679.0</td>\n",
              "      <td>0</td>\n",
              "    </tr>\n",
              "  </tbody>\n",
              "</table>\n",
              "</div>"
            ],
            "text/plain": [
              "   ID  LIMIT_BAL  SEX  ...  PAY_AMT5  PAY_AMT6  default.payment.next.month\n",
              "0   1    20000.0    2  ...       0.0       0.0                           1\n",
              "1   2   120000.0    2  ...       0.0    2000.0                           1\n",
              "2   3    90000.0    2  ...    1000.0    5000.0                           0\n",
              "3   4    50000.0    2  ...    1069.0    1000.0                           0\n",
              "4   5    50000.0    1  ...     689.0     679.0                           0\n",
              "\n",
              "[5 rows x 25 columns]"
            ]
          },
          "execution_count": 84,
          "metadata": {
            "tags": []
          },
          "output_type": "execute_result"
        }
      ],
      "source": [
        "# print first 5 entries\n",
        "df.head()"
      ]
    },
    {
      "cell_type": "markdown",
      "metadata": {
        "id": "6Hi8tb8qRLr5"
      },
      "source": [
        "* features names and types"
      ]
    },
    {
      "cell_type": "code",
      "execution_count": 85,
      "metadata": {
        "colab": {
          "base_uri": "https://localhost:8080/"
        },
        "id": "IgQbRtyLRWb9",
        "outputId": "138e0af2-894b-48ec-dd6f-c2528d0d0974"
      },
      "outputs": [
        {
          "name": "stdout",
          "output_type": "stream",
          "text": [
            "Features types:\n",
            "\n",
            "ID                              int64\n",
            "LIMIT_BAL                     float64\n",
            "SEX                             int64\n",
            "EDUCATION                       int64\n",
            "MARRIAGE                        int64\n",
            "AGE                             int64\n",
            "PAY_0                           int64\n",
            "PAY_2                           int64\n",
            "PAY_3                           int64\n",
            "PAY_4                           int64\n",
            "PAY_5                           int64\n",
            "PAY_6                           int64\n",
            "BILL_AMT1                     float64\n",
            "BILL_AMT2                     float64\n",
            "BILL_AMT3                     float64\n",
            "BILL_AMT4                     float64\n",
            "BILL_AMT5                     float64\n",
            "BILL_AMT6                     float64\n",
            "PAY_AMT1                      float64\n",
            "PAY_AMT2                      float64\n",
            "PAY_AMT3                      float64\n",
            "PAY_AMT4                      float64\n",
            "PAY_AMT5                      float64\n",
            "PAY_AMT6                      float64\n",
            "default.payment.next.month      int64\n",
            "dtype: object\n"
          ]
        }
      ],
      "source": [
        "# print features types\n",
        "print(\"Features types:\\n\")\n",
        "print(df.dtypes)"
      ]
    },
    {
      "cell_type": "markdown",
      "metadata": {
        "id": "SVQKv6MSR163"
      },
      "source": [
        "* a feature description list\n",
        "\n",
        "  * `ID`: ID of each client\n",
        "  * `LIMIT_BAL`: Amount of given credit in NT dollars (includes individual and family/supplementary credit\n",
        "  * `SEX`: Gender (1=male, 2=female)\n",
        "  * `EDUCATION`: (1=graduate school, 2=university, 3=high school, 4=others, 5=unknown, 6=unknown)\n",
        "  * `MARRIAGE`: Marital status (1=married, 2=single, 3=others)\n",
        "  * `AGE`: Age in years\n",
        "  * `PAY_0`: Repayment status in September, 2005 (-1=pay duly, 1=payment delay for one month, 2=payment delay for two months, … 8=payment delay for eight months, 9=payment delay for nine months and above)\n",
        "  * `PAY_2`: Repayment status in August, 2005 (scale same as above)\n",
        "  * `PAY_3`: Repayment status in July, 2005 (scale same as above)\n",
        "  * `PAY_4`: Repayment status in June, 2005 (scale same as above)\n",
        "  * `PAY_5`: Repayment status in May, 2005 (scale same as above)\n",
        "  * `PAY_6`: Repayment status in April, 2005 (scale same as above)\n",
        "  * `BILL_AMT1`: Amount of bill statement in September, 2005 (NT dollar)\n",
        "  * `BILL_AMT2`: Amount of bill statement in August, 2005 (NT dollar)\n",
        "  * `BILL_AMT3`: Amount of bill statement in July, 2005 (NT dollar)\n",
        "  * `BILL_AMT4`: Amount of bill statement in June, 2005 (NT dollar)\n",
        "  * `BILL_AMT5`: Amount of bill statement in May, 2005 (NT dollar)\n",
        "  * `BILL_AMT6`: Amount of bill statement in April, 2005 (NT dollar)\n",
        "  * `PAY_AMT1`: Amount of previous payment in September, 2005 (NT dollar)\n",
        "  * `PAY_AMT2`: Amount of previous payment in August, 2005 (NT dollar)\n",
        "  * `PAY_AMT3`: Amount of previous payment in July, 2005 (NT dollar)\n",
        "  * `PAY_AMT4`: Amount of previous payment in June, 2005 (NT dollar)\n",
        "  * `PAY_AMT5`: Amount of previous payment in May, 2005 (NT dollar)\n",
        "  * `PAY_AMT6`: Amount of previous payment in April, 2005 (NT dollar)\n",
        "  * `default.payment.next.month`: Default payment (1=yes, 0=no)"
      ]
    },
    {
      "cell_type": "markdown",
      "metadata": {
        "id": "WPoUwTqlhoam"
      },
      "source": [
        "Some thing we need to do next:\n",
        "\n",
        "* feature `ID` is basically an index and we can **drop it** as it doesn't bring any relevant info to our analysis;\n",
        "\n",
        "* features `EDUCATION` and `MARRIAGE` are multiple categoric variables so we will need to **code them**;\n",
        "\n",
        "* the same goes for features `PAY_0` to `PAY_6` so we will also **code them**;\n",
        "\n",
        "* features `BILL_AMT1` to `BILL_AMT6` and `PAY_AMT1` to `PAY_AMT6` are type *float* and we don't need to change that for now;\n",
        "\n",
        "* `default.payment.next.month` is our **target feature**.\n",
        "\n"
      ]
    },
    {
      "cell_type": "markdown",
      "metadata": {
        "id": "GZmie73F4bkC"
      },
      "source": [
        "Let's check the statistical summary for our numeric variables."
      ]
    },
    {
      "cell_type": "code",
      "execution_count": 86,
      "metadata": {
        "colab": {
          "base_uri": "https://localhost:8080/",
          "height": 317
        },
        "id": "cQVjmIni0IFS",
        "outputId": "19bf1995-4392-494f-9a71-ceedee0eec02"
      },
      "outputs": [
        {
          "data": {
            "text/html": [
              "<div>\n",
              "<style scoped>\n",
              "    .dataframe tbody tr th:only-of-type {\n",
              "        vertical-align: middle;\n",
              "    }\n",
              "\n",
              "    .dataframe tbody tr th {\n",
              "        vertical-align: top;\n",
              "    }\n",
              "\n",
              "    .dataframe thead th {\n",
              "        text-align: right;\n",
              "    }\n",
              "</style>\n",
              "<table border=\"1\" class=\"dataframe\">\n",
              "  <thead>\n",
              "    <tr style=\"text-align: right;\">\n",
              "      <th></th>\n",
              "      <th>ID</th>\n",
              "      <th>LIMIT_BAL</th>\n",
              "      <th>SEX</th>\n",
              "      <th>EDUCATION</th>\n",
              "      <th>MARRIAGE</th>\n",
              "      <th>AGE</th>\n",
              "      <th>PAY_0</th>\n",
              "      <th>PAY_2</th>\n",
              "      <th>PAY_3</th>\n",
              "      <th>PAY_4</th>\n",
              "      <th>PAY_5</th>\n",
              "      <th>PAY_6</th>\n",
              "      <th>BILL_AMT1</th>\n",
              "      <th>BILL_AMT2</th>\n",
              "      <th>BILL_AMT3</th>\n",
              "      <th>BILL_AMT4</th>\n",
              "      <th>BILL_AMT5</th>\n",
              "      <th>BILL_AMT6</th>\n",
              "      <th>PAY_AMT1</th>\n",
              "      <th>PAY_AMT2</th>\n",
              "      <th>PAY_AMT3</th>\n",
              "      <th>PAY_AMT4</th>\n",
              "      <th>PAY_AMT5</th>\n",
              "      <th>PAY_AMT6</th>\n",
              "      <th>default.payment.next.month</th>\n",
              "    </tr>\n",
              "  </thead>\n",
              "  <tbody>\n",
              "    <tr>\n",
              "      <th>count</th>\n",
              "      <td>30000.000000</td>\n",
              "      <td>30000.000000</td>\n",
              "      <td>30000.000000</td>\n",
              "      <td>30000.000000</td>\n",
              "      <td>30000.000000</td>\n",
              "      <td>30000.000000</td>\n",
              "      <td>30000.000000</td>\n",
              "      <td>30000.000000</td>\n",
              "      <td>30000.000000</td>\n",
              "      <td>30000.000000</td>\n",
              "      <td>30000.000000</td>\n",
              "      <td>30000.000000</td>\n",
              "      <td>30000.000000</td>\n",
              "      <td>30000.000000</td>\n",
              "      <td>3.000000e+04</td>\n",
              "      <td>30000.000000</td>\n",
              "      <td>30000.000000</td>\n",
              "      <td>30000.000000</td>\n",
              "      <td>30000.000000</td>\n",
              "      <td>3.000000e+04</td>\n",
              "      <td>30000.00000</td>\n",
              "      <td>30000.000000</td>\n",
              "      <td>30000.000000</td>\n",
              "      <td>30000.000000</td>\n",
              "      <td>30000.000000</td>\n",
              "    </tr>\n",
              "    <tr>\n",
              "      <th>mean</th>\n",
              "      <td>15000.500000</td>\n",
              "      <td>167484.322667</td>\n",
              "      <td>1.603733</td>\n",
              "      <td>1.853133</td>\n",
              "      <td>1.551867</td>\n",
              "      <td>35.485500</td>\n",
              "      <td>-0.016700</td>\n",
              "      <td>-0.133767</td>\n",
              "      <td>-0.166200</td>\n",
              "      <td>-0.220667</td>\n",
              "      <td>-0.266200</td>\n",
              "      <td>-0.291100</td>\n",
              "      <td>51223.330900</td>\n",
              "      <td>49179.075167</td>\n",
              "      <td>4.701315e+04</td>\n",
              "      <td>43262.948967</td>\n",
              "      <td>40311.400967</td>\n",
              "      <td>38871.760400</td>\n",
              "      <td>5663.580500</td>\n",
              "      <td>5.921163e+03</td>\n",
              "      <td>5225.68150</td>\n",
              "      <td>4826.076867</td>\n",
              "      <td>4799.387633</td>\n",
              "      <td>5215.502567</td>\n",
              "      <td>0.221200</td>\n",
              "    </tr>\n",
              "    <tr>\n",
              "      <th>std</th>\n",
              "      <td>8660.398374</td>\n",
              "      <td>129747.661567</td>\n",
              "      <td>0.489129</td>\n",
              "      <td>0.790349</td>\n",
              "      <td>0.521970</td>\n",
              "      <td>9.217904</td>\n",
              "      <td>1.123802</td>\n",
              "      <td>1.197186</td>\n",
              "      <td>1.196868</td>\n",
              "      <td>1.169139</td>\n",
              "      <td>1.133187</td>\n",
              "      <td>1.149988</td>\n",
              "      <td>73635.860576</td>\n",
              "      <td>71173.768783</td>\n",
              "      <td>6.934939e+04</td>\n",
              "      <td>64332.856134</td>\n",
              "      <td>60797.155770</td>\n",
              "      <td>59554.107537</td>\n",
              "      <td>16563.280354</td>\n",
              "      <td>2.304087e+04</td>\n",
              "      <td>17606.96147</td>\n",
              "      <td>15666.159744</td>\n",
              "      <td>15278.305679</td>\n",
              "      <td>17777.465775</td>\n",
              "      <td>0.415062</td>\n",
              "    </tr>\n",
              "    <tr>\n",
              "      <th>min</th>\n",
              "      <td>1.000000</td>\n",
              "      <td>10000.000000</td>\n",
              "      <td>1.000000</td>\n",
              "      <td>0.000000</td>\n",
              "      <td>0.000000</td>\n",
              "      <td>21.000000</td>\n",
              "      <td>-2.000000</td>\n",
              "      <td>-2.000000</td>\n",
              "      <td>-2.000000</td>\n",
              "      <td>-2.000000</td>\n",
              "      <td>-2.000000</td>\n",
              "      <td>-2.000000</td>\n",
              "      <td>-165580.000000</td>\n",
              "      <td>-69777.000000</td>\n",
              "      <td>-1.572640e+05</td>\n",
              "      <td>-170000.000000</td>\n",
              "      <td>-81334.000000</td>\n",
              "      <td>-339603.000000</td>\n",
              "      <td>0.000000</td>\n",
              "      <td>0.000000e+00</td>\n",
              "      <td>0.00000</td>\n",
              "      <td>0.000000</td>\n",
              "      <td>0.000000</td>\n",
              "      <td>0.000000</td>\n",
              "      <td>0.000000</td>\n",
              "    </tr>\n",
              "    <tr>\n",
              "      <th>25%</th>\n",
              "      <td>7500.750000</td>\n",
              "      <td>50000.000000</td>\n",
              "      <td>1.000000</td>\n",
              "      <td>1.000000</td>\n",
              "      <td>1.000000</td>\n",
              "      <td>28.000000</td>\n",
              "      <td>-1.000000</td>\n",
              "      <td>-1.000000</td>\n",
              "      <td>-1.000000</td>\n",
              "      <td>-1.000000</td>\n",
              "      <td>-1.000000</td>\n",
              "      <td>-1.000000</td>\n",
              "      <td>3558.750000</td>\n",
              "      <td>2984.750000</td>\n",
              "      <td>2.666250e+03</td>\n",
              "      <td>2326.750000</td>\n",
              "      <td>1763.000000</td>\n",
              "      <td>1256.000000</td>\n",
              "      <td>1000.000000</td>\n",
              "      <td>8.330000e+02</td>\n",
              "      <td>390.00000</td>\n",
              "      <td>296.000000</td>\n",
              "      <td>252.500000</td>\n",
              "      <td>117.750000</td>\n",
              "      <td>0.000000</td>\n",
              "    </tr>\n",
              "    <tr>\n",
              "      <th>50%</th>\n",
              "      <td>15000.500000</td>\n",
              "      <td>140000.000000</td>\n",
              "      <td>2.000000</td>\n",
              "      <td>2.000000</td>\n",
              "      <td>2.000000</td>\n",
              "      <td>34.000000</td>\n",
              "      <td>0.000000</td>\n",
              "      <td>0.000000</td>\n",
              "      <td>0.000000</td>\n",
              "      <td>0.000000</td>\n",
              "      <td>0.000000</td>\n",
              "      <td>0.000000</td>\n",
              "      <td>22381.500000</td>\n",
              "      <td>21200.000000</td>\n",
              "      <td>2.008850e+04</td>\n",
              "      <td>19052.000000</td>\n",
              "      <td>18104.500000</td>\n",
              "      <td>17071.000000</td>\n",
              "      <td>2100.000000</td>\n",
              "      <td>2.009000e+03</td>\n",
              "      <td>1800.00000</td>\n",
              "      <td>1500.000000</td>\n",
              "      <td>1500.000000</td>\n",
              "      <td>1500.000000</td>\n",
              "      <td>0.000000</td>\n",
              "    </tr>\n",
              "    <tr>\n",
              "      <th>75%</th>\n",
              "      <td>22500.250000</td>\n",
              "      <td>240000.000000</td>\n",
              "      <td>2.000000</td>\n",
              "      <td>2.000000</td>\n",
              "      <td>2.000000</td>\n",
              "      <td>41.000000</td>\n",
              "      <td>0.000000</td>\n",
              "      <td>0.000000</td>\n",
              "      <td>0.000000</td>\n",
              "      <td>0.000000</td>\n",
              "      <td>0.000000</td>\n",
              "      <td>0.000000</td>\n",
              "      <td>67091.000000</td>\n",
              "      <td>64006.250000</td>\n",
              "      <td>6.016475e+04</td>\n",
              "      <td>54506.000000</td>\n",
              "      <td>50190.500000</td>\n",
              "      <td>49198.250000</td>\n",
              "      <td>5006.000000</td>\n",
              "      <td>5.000000e+03</td>\n",
              "      <td>4505.00000</td>\n",
              "      <td>4013.250000</td>\n",
              "      <td>4031.500000</td>\n",
              "      <td>4000.000000</td>\n",
              "      <td>0.000000</td>\n",
              "    </tr>\n",
              "    <tr>\n",
              "      <th>max</th>\n",
              "      <td>30000.000000</td>\n",
              "      <td>1000000.000000</td>\n",
              "      <td>2.000000</td>\n",
              "      <td>6.000000</td>\n",
              "      <td>3.000000</td>\n",
              "      <td>79.000000</td>\n",
              "      <td>8.000000</td>\n",
              "      <td>8.000000</td>\n",
              "      <td>8.000000</td>\n",
              "      <td>8.000000</td>\n",
              "      <td>8.000000</td>\n",
              "      <td>8.000000</td>\n",
              "      <td>964511.000000</td>\n",
              "      <td>983931.000000</td>\n",
              "      <td>1.664089e+06</td>\n",
              "      <td>891586.000000</td>\n",
              "      <td>927171.000000</td>\n",
              "      <td>961664.000000</td>\n",
              "      <td>873552.000000</td>\n",
              "      <td>1.684259e+06</td>\n",
              "      <td>896040.00000</td>\n",
              "      <td>621000.000000</td>\n",
              "      <td>426529.000000</td>\n",
              "      <td>528666.000000</td>\n",
              "      <td>1.000000</td>\n",
              "    </tr>\n",
              "  </tbody>\n",
              "</table>\n",
              "</div>"
            ],
            "text/plain": [
              "                 ID       LIMIT_BAL  ...       PAY_AMT6  default.payment.next.month\n",
              "count  30000.000000    30000.000000  ...   30000.000000                30000.000000\n",
              "mean   15000.500000   167484.322667  ...    5215.502567                    0.221200\n",
              "std     8660.398374   129747.661567  ...   17777.465775                    0.415062\n",
              "min        1.000000    10000.000000  ...       0.000000                    0.000000\n",
              "25%     7500.750000    50000.000000  ...     117.750000                    0.000000\n",
              "50%    15000.500000   140000.000000  ...    1500.000000                    0.000000\n",
              "75%    22500.250000   240000.000000  ...    4000.000000                    0.000000\n",
              "max    30000.000000  1000000.000000  ...  528666.000000                    1.000000\n",
              "\n",
              "[8 rows x 25 columns]"
            ]
          },
          "execution_count": 86,
          "metadata": {
            "tags": []
          },
          "output_type": "execute_result"
        }
      ],
      "source": [
        "# print the statistical summary\n",
        "df.describe()"
      ]
    },
    {
      "cell_type": "markdown",
      "metadata": {
        "id": "2VDP--L14aIl"
      },
      "source": [
        "There's something weird about features `EDUCATION` and `MARRIAGE` where it shows `min=0` and 0 wasn't even an entry option according to our feature description list.\n",
        "\n",
        "The same happens for features `PAY_0` to `PAY_6` that show `min=-2` and median=0 and none of these values were an entry option.\n",
        "\n",
        "Let's plot some boxplots and check for outliers.\n"
      ]
    },
    {
      "cell_type": "code",
      "execution_count": 87,
      "metadata": {
        "colab": {
          "base_uri": "https://localhost:8080/",
          "height": 963
        },
        "id": "TBewEslmoFSy",
        "outputId": "7fbf9972-4bb5-45e9-8532-52abdbc572ae"
      },
      "outputs": [
        {
          "data": {
            "image/png": "[encoded data removed]",
            "text/plain": [
              "<Figure size 720x1080 with 3 Axes>"
            ]
          },
          "metadata": {
            "needs_background": "light",
            "tags": []
          },
          "output_type": "display_data"
        }
      ],
      "source": [
        "# plot boxplots for LIMIT_BAL, BILL_AMT1 and PAY_AMT1\n",
        "fig, (ax1, ax2, ax3) = plt.subplots(nrows=1, ncols=3, figsize=(10,15))\n",
        "sns.boxplot(data=df.LIMIT_BAL, ax=ax1, orient=\"v\")\n",
        "sns.boxplot(data=df.BILL_AMT1, ax=ax2, orient=\"v\")\n",
        "sns.boxplot(data=df.PAY_AMT1, ax=ax3, orient=\"v\")\n",
        "ax1.set_title('boxplot for LIMIT_BAL')\n",
        "ax2.set_title('boxplot for BILL_AMT1')\n",
        "ax3.set_title('boxplot for PAY_AMT1')\n",
        "plt.tight_layout()"
      ]
    },
    {
      "cell_type": "markdown",
      "metadata": {
        "id": "Nmw178UaENXs"
      },
      "source": [
        "There are some outlier values on `LIMIT_BAL`, `BILL_AMT1` and `PAY_AMT1`.\n",
        "\n",
        "Let's drop some of them so out model is not biased by them.\n",
        "\n",
        "Note that the behavior of `BILL_AMT1` will be used as baseline to treat the outliers of all `BILL_AMT1` to `BILL_AMT6` features.\n",
        "\n",
        "The same goes for `PAY_AMT1` being a baseline for `PAY_AMT1` to `PAY_AMT6` features.\n"
      ]
    },
    {
      "cell_type": "markdown",
      "metadata": {
        "id": "BsK5fUsjjWRt"
      },
      "source": [
        "### Missing values\n",
        "\n",
        "Let's take a look at the proportion of missing values in each column.\n"
      ]
    },
    {
      "cell_type": "code",
      "execution_count": 88,
      "metadata": {
        "colab": {
          "base_uri": "https://localhost:8080/"
        },
        "id": "kay8vcGGj-tK",
        "outputId": "247fe271-40c3-4440-9d63-7591ca084088"
      },
      "outputs": [
        {
          "name": "stdout",
          "output_type": "stream",
          "text": [
            "Missing values:\n",
            "\n",
            "ID                            0.0\n",
            "PAY_AMT5                      0.0\n",
            "PAY_AMT4                      0.0\n",
            "PAY_AMT3                      0.0\n",
            "PAY_AMT2                      0.0\n",
            "PAY_AMT1                      0.0\n",
            "BILL_AMT6                     0.0\n",
            "BILL_AMT5                     0.0\n",
            "BILL_AMT4                     0.0\n",
            "BILL_AMT3                     0.0\n",
            "BILL_AMT2                     0.0\n",
            "PAY_AMT6                      0.0\n",
            "BILL_AMT1                     0.0\n",
            "PAY_5                         0.0\n",
            "PAY_4                         0.0\n",
            "PAY_3                         0.0\n",
            "PAY_2                         0.0\n",
            "PAY_0                         0.0\n",
            "AGE                           0.0\n",
            "MARRIAGE                      0.0\n",
            "EDUCATION                     0.0\n",
            "SEX                           0.0\n",
            "LIMIT_BAL                     0.0\n",
            "PAY_6                         0.0\n",
            "default.payment.next.month    0.0\n",
            "dtype: float64\n"
          ]
        }
      ],
      "source": [
        "# checking missing values in each column\n",
        "print(\"Missing values:\\n\")\n",
        "print((df.isnull().sum()/df.shape[0]).sort_values())"
      ]
    },
    {
      "cell_type": "markdown",
      "metadata": {
        "id": "ANKgyvlelzXT"
      },
      "source": [
        "Apparently all the columns show no missing value. That's great but kind of too good to be true, so let's take a deeper look and make sure we're not missing anything.\n",
        "\n",
        "Let's check the unique values of each feature and see if it makes sense according to their description."
      ]
    },
    {
      "cell_type": "code",
      "execution_count": 89,
      "metadata": {
        "colab": {
          "base_uri": "https://localhost:8080/"
        },
        "id": "___lkGMKRyAX",
        "outputId": "8e41db57-dd68-4f50-a5cc-cf2f35026904"
      },
      "outputs": [
        {
          "name": "stdout",
          "output_type": "stream",
          "text": [
            "Unique values:\n",
            "\n",
            "ID                            30000\n",
            "LIMIT_BAL                        81\n",
            "SEX                               2\n",
            "EDUCATION                         7\n",
            "MARRIAGE                          4\n",
            "AGE                              56\n",
            "PAY_0                            11\n",
            "PAY_2                            11\n",
            "PAY_3                            11\n",
            "PAY_4                            11\n",
            "PAY_5                            10\n",
            "PAY_6                            10\n",
            "BILL_AMT1                     22723\n",
            "BILL_AMT2                     22346\n",
            "BILL_AMT3                     22026\n",
            "BILL_AMT4                     21548\n",
            "BILL_AMT5                     21010\n",
            "BILL_AMT6                     20604\n",
            "PAY_AMT1                       7943\n",
            "PAY_AMT2                       7899\n",
            "PAY_AMT3                       7518\n",
            "PAY_AMT4                       6937\n",
            "PAY_AMT5                       6897\n",
            "PAY_AMT6                       6939\n",
            "default.payment.next.month        2\n",
            "dtype: int64\n"
          ]
        }
      ],
      "source": [
        "print(\"Unique values:\\n\")\n",
        "print(df.nunique())"
      ]
    },
    {
      "cell_type": "markdown",
      "metadata": {
        "id": "7W9FJ3HTnWkk"
      },
      "source": [
        "Some categoric features seem off and here's why:\n",
        "\n",
        "* according to the feature description, `EDUCATION` should have 6 unique values but it has 7;\n",
        "\n",
        "* according to the feature description,`MARRIAGE` should have 3 unique values but it has 4;\n",
        "\n",
        "* according to the feature description,`PAY_0` to `PAY_6` should have 10 unique values but some have 11.\n",
        "\n",
        "Let's check how many of each unique values these features present.\n"
      ]
    },
    {
      "cell_type": "code",
      "execution_count": 90,
      "metadata": {
        "colab": {
          "base_uri": "https://localhost:8080/"
        },
        "id": "lo2z0H45obMQ",
        "outputId": "06829511-ba74-4df8-f3a2-5b5a565f47a5"
      },
      "outputs": [
        {
          "name": "stdout",
          "output_type": "stream",
          "text": [
            "Unique values for EDUCATION:\n",
            "\n",
            "2    14030\n",
            "1    10585\n",
            "3     4917\n",
            "5      280\n",
            "4      123\n",
            "6       51\n",
            "0       14\n",
            "Name: EDUCATION, dtype: int64\n",
            "\n",
            "\n",
            "Unique values for MARRIAGE:\n",
            "\n",
            "2    15964\n",
            "1    13659\n",
            "3      323\n",
            "0       54\n",
            "Name: MARRIAGE, dtype: int64\n"
          ]
        }
      ],
      "source": [
        "# check unique values for EDUCATION and MARRIAGE\n",
        "print(\"Unique values for EDUCATION:\\n\")\n",
        "print(df.EDUCATION.value_counts())\n",
        "print(\"\\n\\nUnique values for MARRIAGE:\\n\")\n",
        "print(df.MARRIAGE.value_counts())"
      ]
    },
    {
      "cell_type": "markdown",
      "metadata": {
        "id": "kcjQLxl93UZt"
      },
      "source": [
        "There's 14 entries of value `0` on `EDUCATION` so we will replace them for `4` that means \"other\". Let's do that for both `5` and `6` entries that mean \"unknown\". All of these entries bring the same information so we will gather them all in `4` representing \"other\".\n",
        "\n",
        "There's 54 entries of value `0` on `MARRIAGE` so we will replace them for `3` that means \"other\".\n",
        "\n"
      ]
    },
    {
      "cell_type": "code",
      "execution_count": 91,
      "metadata": {
        "colab": {
          "base_uri": "https://localhost:8080/"
        },
        "id": "l_XAlKGF3THT",
        "outputId": "d41ffa85-30d0-4363-d3a3-9e2f75c5b663"
      },
      "outputs": [
        {
          "name": "stdout",
          "output_type": "stream",
          "text": [
            "\n",
            "\n",
            "Unique values for PAY_0:\n",
            "\n",
            " 0    14737\n",
            "-1     5686\n",
            " 1     3688\n",
            "-2     2759\n",
            " 2     2667\n",
            " 3      322\n",
            " 4       76\n",
            " 5       26\n",
            " 8       19\n",
            " 6       11\n",
            " 7        9\n",
            "Name: PAY_0, dtype: int64\n",
            "\n",
            "\n",
            "Unique values for PAY_2:\n",
            "\n",
            " 0    15730\n",
            "-1     6050\n",
            " 2     3927\n",
            "-2     3782\n",
            " 3      326\n",
            " 4       99\n",
            " 1       28\n",
            " 5       25\n",
            " 7       20\n",
            " 6       12\n",
            " 8        1\n",
            "Name: PAY_2, dtype: int64\n",
            "\n",
            "\n",
            "Unique values for PAY_3:\n",
            "\n",
            " 0    15764\n",
            "-1     5938\n",
            "-2     4085\n",
            " 2     3819\n",
            " 3      240\n",
            " 4       76\n",
            " 7       27\n",
            " 6       23\n",
            " 5       21\n",
            " 1        4\n",
            " 8        3\n",
            "Name: PAY_3, dtype: int64\n",
            "\n",
            "\n",
            "Unique values for PAY_4:\n",
            "\n",
            " 0    16455\n",
            "-1     5687\n",
            "-2     4348\n",
            " 2     3159\n",
            " 3      180\n",
            " 4       69\n",
            " 7       58\n",
            " 5       35\n",
            " 6        5\n",
            " 8        2\n",
            " 1        2\n",
            "Name: PAY_4, dtype: int64\n",
            "\n",
            "\n",
            "Unique values for PAY_5:\n",
            "\n",
            " 0    16947\n",
            "-1     5539\n",
            "-2     4546\n",
            " 2     2626\n",
            " 3      178\n",
            " 4       84\n",
            " 7       58\n",
            " 5       17\n",
            " 6        4\n",
            " 8        1\n",
            "Name: PAY_5, dtype: int64\n",
            "\n",
            "\n",
            "Unique values for PAY_6:\n",
            "\n",
            " 0    16286\n",
            "-1     5740\n",
            "-2     4895\n",
            " 2     2766\n",
            " 3      184\n",
            " 4       49\n",
            " 7       46\n",
            " 6       19\n",
            " 5       13\n",
            " 8        2\n",
            "Name: PAY_6, dtype: int64\n"
          ]
        }
      ],
      "source": [
        "# check unique values for PAY_0 to PAY_6\n",
        "print(\"\\n\\nUnique values for PAY_0:\\n\")\n",
        "print(df.PAY_0.value_counts())\n",
        "print(\"\\n\\nUnique values for PAY_2:\\n\")\n",
        "print(df.PAY_2.value_counts())\n",
        "print(\"\\n\\nUnique values for PAY_3:\\n\")\n",
        "print(df.PAY_3.value_counts())\n",
        "print(\"\\n\\nUnique values for PAY_4:\\n\")\n",
        "print(df.PAY_4.value_counts())\n",
        "print(\"\\n\\nUnique values for PAY_5:\\n\")\n",
        "print(df.PAY_5.value_counts())\n",
        "print(\"\\n\\nUnique values for PAY_6:\\n\")\n",
        "print(df.PAY_6.value_counts())"
      ]
    },
    {
      "cell_type": "markdown",
      "metadata": {
        "id": "2IxdBLGOrMGe"
      },
      "source": [
        "`PAY_0` to `PAY_6` have lots of `0` entries and some `-2` entries.\n",
        "\n",
        "Let's work with the idea that both these values (`0` and `-2`) mean that the bill has been payed with no delays which means we can group them all together with `-1` entries."
      ]
    },
    {
      "cell_type": "markdown",
      "metadata": {
        "id": "N7vLbnUuzSVk"
      },
      "source": [
        "### Target feature distribution\n",
        "\n",
        "Let's plot a countplot to understand how `default.payment.next.month` is distributed on the dataset.\n",
        "\n"
      ]
    },
    {
      "cell_type": "code",
      "execution_count": 92,
      "metadata": {
        "colab": {
          "base_uri": "https://localhost:8080/",
          "height": 433
        },
        "id": "XhPrFS4XMHwF",
        "outputId": "4bd28024-b3f3-4f79-8d3f-df0890c0e8dd"
      },
      "outputs": [
        {
          "name": "stdout",
          "output_type": "stream",
          "text": [
            "0    23364\n",
            "1     6636\n",
            "Name: default.payment.next.month, dtype: int64\n",
            "\n",
            "\n",
            "Default = 28.4 %\n",
            "\n",
            "\n"
          ]
        },
        {
          "data": {
            "image/png": "[encoded data removed]",
            "text/plain": [
              "<Figure size 432x288 with 1 Axes>"
            ]
          },
          "metadata": {
            "needs_background": "light",
            "tags": []
          },
          "output_type": "display_data"
        }
      ],
      "source": [
        "# check default.payment.next.month distribution\n",
        "print(df['default.payment.next.month'].value_counts())\n",
        "print('\\n')\n",
        "print('Default =', round(((df.loc[df['default.payment.next.month'] == 1].shape[0])/(df.loc[df['default.payment.next.month'] == 0].shape[0])*100),2),'%')\n",
        "print('\\n')\n",
        "\n",
        "# plot countplot\n",
        "fig, ax = plt.subplots()\n",
        "sns.countplot(x=df['default.payment.next.month'], ax=ax)\n",
        "ax.set_title('Default distribution')\n",
        "ax.set_xlabel('default')\n",
        "plt.tight_layout()"
      ]
    },
    {
      "cell_type": "markdown",
      "metadata": {
        "id": "gilFv8ewSBtG"
      },
      "source": [
        "we have a **mild imbalancing** of the target feature `default.payment.next.month`\n",
        "\n",
        "It is known that balanced data usually performs better for classification models. We will first train a model on the original distribuition to evaluate and if needed we will use a balancing method.\n",
        "\n"
      ]
    },
    {
      "cell_type": "markdown",
      "metadata": {
        "id": "BGojyzcaTXK7"
      },
      "source": [
        "### Feature correlation\n",
        "\n",
        "Let's take a look at the features correlations. We will create a correlation matrix for that and a heatmap for better visualization."
      ]
    },
    {
      "cell_type": "code",
      "execution_count": 93,
      "metadata": {
        "colab": {
          "base_uri": "https://localhost:8080/",
          "height": 682
        },
        "id": "TdcZKKSwVBZG",
        "outputId": "b6350bed-dc9d-4668-f5b1-0f650ffb289f"
      },
      "outputs": [
        {
          "data": {
            "image/png": "[encoded data removed]",
            "text/plain": [
              "<Figure size 1080x1080 with 2 Axes>"
            ]
          },
          "metadata": {
            "needs_background": "light",
            "tags": []
          },
          "output_type": "display_data"
        }
      ],
      "source": [
        "# plot correlation heatmap matrix\n",
        "corr = df.corr()\n",
        "mask = np.triu(np.ones_like(corr, dtype=bool))\n",
        "plt.figure(figsize=(15,15))\n",
        "sns.heatmap(corr, mask=mask, fmt='.0%', annot=True)\n",
        "plt.tight_layout()"
      ]
    },
    {
      "cell_type": "markdown",
      "metadata": {
        "id": "NklBSuR-Vl28"
      },
      "source": [
        "The target feature doesn't show a very strong correlation to the other features. This could change after we standardize and balance our dataset.\n",
        "\n",
        "Either way, we can come to some points:\n",
        "* `PAY_0` to `PAY_6` show some positive correlation with the target feature as well as with one another. It makes sense because the payment status can influence the default chances;\n",
        "\n",
        "* as expected `LIMIT_BAL` shows positive correlations with `BILL_AMT1`;\n",
        "\n",
        "* `BILL_AMT1` to `BILL_AMT6` are also positively correlated with one another and it makes sense as the bill amount tends to stay the same.\n"
      ]
    },
    {
      "cell_type": "markdown",
      "metadata": {
        "id": "REasi5iYTbt6"
      },
      "source": [
        "## Preprocessing data\n",
        "\n",
        "From the EDA we were able to identify the following steps that need to be done in data preprocessing:\n",
        "\n",
        "* **Data cleaning** by grouping entries and dropping some outliers;\n",
        "\n",
        "* **Feature selecting** the relevant ones and dropping the less relevant ones as well as grouping similar columns;\n",
        "\n",
        "* **Coding** categorical features;\n",
        "\n",
        "* **Splitting** the dataset into train and test sets.\n"
      ]
    },
    {
      "cell_type": "markdown",
      "metadata": {
        "id": "JDvzdrn099G2"
      },
      "source": [
        "### Data cleaning\n",
        "\n",
        "As explained before, let's group some entries on features `EDUCATION`, `MARRIAGE` and `PAY_0` to `PAY_6`."
      ]
    },
    {
      "cell_type": "code",
      "execution_count": 94,
      "metadata": {
        "colab": {
          "base_uri": "https://localhost:8080/"
        },
        "id": "OISvLg2L-yJ7",
        "outputId": "9803901b-7fa0-47e1-ae19-ac45384fbb6b"
      },
      "outputs": [
        {
          "name": "stdout",
          "output_type": "stream",
          "text": [
            "Unique values for EDUCATION after cleaning:\n",
            "\n",
            "2    14030\n",
            "1    10585\n",
            "3     4917\n",
            "4      468\n",
            "Name: EDUCATION, dtype: int64\n",
            "\n",
            "\n",
            "Unique values for MARRIAGE after cleaning:\n",
            "\n",
            "2    15964\n",
            "1    13659\n",
            "3      377\n",
            "Name: MARRIAGE, dtype: int64\n",
            "\n",
            "\n",
            "Unique values for PAY_0 after cleaning:\n",
            "\n",
            "-1    23182\n",
            " 1     3688\n",
            " 2     2667\n",
            " 3      322\n",
            " 4       76\n",
            " 5       26\n",
            " 8       19\n",
            " 6       11\n",
            " 7        9\n",
            "Name: PAY_0, dtype: int64\n",
            "\n",
            "\n",
            "Unique values for PAY_2 after cleaning:\n",
            "\n",
            "-1    25562\n",
            " 2     3927\n",
            " 3      326\n",
            " 4       99\n",
            " 1       28\n",
            " 5       25\n",
            " 7       20\n",
            " 6       12\n",
            " 8        1\n",
            "Name: PAY_2, dtype: int64\n",
            "\n",
            "\n",
            "Unique values for PAY_3 after cleaning:\n",
            "\n",
            "-1    25787\n",
            " 2     3819\n",
            " 3      240\n",
            " 4       76\n",
            " 7       27\n",
            " 6       23\n",
            " 5       21\n",
            " 1        4\n",
            " 8        3\n",
            "Name: PAY_3, dtype: int64\n",
            "\n",
            "\n",
            "Unique values for PAY_4 after cleaning:\n",
            "\n",
            "-1    26490\n",
            " 2     3159\n",
            " 3      180\n",
            " 4       69\n",
            " 7       58\n",
            " 5       35\n",
            " 6        5\n",
            " 8        2\n",
            " 1        2\n",
            "Name: PAY_4, dtype: int64\n",
            "\n",
            "\n",
            "Unique values for PAY_5 after cleaning:\n",
            "\n",
            "-1    27032\n",
            " 2     2626\n",
            " 3      178\n",
            " 4       84\n",
            " 7       58\n",
            " 5       17\n",
            " 6        4\n",
            " 8        1\n",
            "Name: PAY_5, dtype: int64\n",
            "\n",
            "\n",
            "Unique values for PAY_6 after cleaning:\n",
            "\n",
            "-1    26921\n",
            " 2     2766\n",
            " 3      184\n",
            " 4       49\n",
            " 7       46\n",
            " 6       19\n",
            " 5       13\n",
            " 8        2\n",
            "Name: PAY_6, dtype: int64\n"
          ]
        }
      ],
      "source": [
        "# making a copy of the dataframe\n",
        "df_clean = df.copy()\n",
        "\n",
        "# replacing 0, 5 and 6 entries for 4 on EDUCATION\n",
        "df_clean.loc[df_clean.EDUCATION == 0, 'EDUCATION'] = 4\n",
        "df_clean.loc[df_clean.EDUCATION == 5, 'EDUCATION'] = 4\n",
        "df_clean.loc[df_clean.EDUCATION == 6, 'EDUCATION'] = 4\n",
        "\n",
        "# replacing 0 entries for 3 on MARRIAGE\n",
        "df_clean.loc[df_clean.MARRIAGE == 0, 'MARRIAGE'] = 3\n",
        "\n",
        "# replacing 0 and -2 entries for -1 on PAY_0 to PAY_6\n",
        "df_clean.loc[df_clean.PAY_0 <= 0, 'PAY_0'] = -1\n",
        "df_clean.loc[df_clean.PAY_2 <= 0, 'PAY_2'] = -1\n",
        "df_clean.loc[df_clean.PAY_3 <= 0, 'PAY_3'] = -1\n",
        "df_clean.loc[df_clean.PAY_4 <= 0, 'PAY_4'] = -1\n",
        "df_clean.loc[df_clean.PAY_5 <= 0, 'PAY_5'] = -1\n",
        "df_clean.loc[df_clean.PAY_6 <= 0, 'PAY_6'] = -1\n",
        "\n",
        "# check the new unique values after cleaning\n",
        "print(\"Unique values for EDUCATION after cleaning:\\n\")\n",
        "print(df_clean.EDUCATION.value_counts())\n",
        "print(\"\\n\\nUnique values for MARRIAGE after cleaning:\\n\")\n",
        "print(df_clean.MARRIAGE.value_counts())\n",
        "print(\"\\n\\nUnique values for PAY_0 after cleaning:\\n\")\n",
        "print(df_clean.PAY_0.value_counts())\n",
        "print(\"\\n\\nUnique values for PAY_2 after cleaning:\\n\")\n",
        "print(df_clean.PAY_2.value_counts())\n",
        "print(\"\\n\\nUnique values for PAY_3 after cleaning:\\n\")\n",
        "print(df_clean.PAY_3.value_counts())\n",
        "print(\"\\n\\nUnique values for PAY_4 after cleaning:\\n\")\n",
        "print(df_clean.PAY_4.value_counts())\n",
        "print(\"\\n\\nUnique values for PAY_5 after cleaning:\\n\")\n",
        "print(df_clean.PAY_5.value_counts())\n",
        "print(\"\\n\\nUnique values for PAY_6 after cleaning:\\n\")\n",
        "print(df_clean.PAY_6.value_counts())"
      ]
    },
    {
      "cell_type": "markdown",
      "metadata": {
        "id": "a8FAcv4BtCDx"
      },
      "source": [
        "Let's drop some outlier values.\n",
        "\n",
        "we will drop the following entry values:\n",
        "* values over 700000 on `LIMIT_BAL`;\n",
        "* values over 500000 and under -100000 on `BILL_AMT1` to `BILL_AMT6`;\n",
        "* values over 250000 on `PAY_AMT1` to `PAY_AMT6`.\n",
        "\n",
        "\n",
        "\n"
      ]
    },
    {
      "cell_type": "code",
      "execution_count": 95,
      "metadata": {
        "id": "S8E5hqc-Dbsb"
      },
      "outputs": [],
      "source": [
        "# drop outlier values\n",
        "df_clean.drop(df_clean[df_clean.LIMIT_BAL >= 700000].index, axis=0, inplace=True)\n",
        "df_clean.drop(df_clean[df_clean.BILL_AMT1 >= 500000].index, axis=0, inplace=True)\n",
        "df_clean.drop(df_clean[df_clean.BILL_AMT2 >= 500000].index, axis=0, inplace=True)\n",
        "df_clean.drop(df_clean[df_clean.BILL_AMT3 >= 500000].index, axis=0, inplace=True)\n",
        "df_clean.drop(df_clean[df_clean.BILL_AMT4 >= 500000].index, axis=0, inplace=True)\n",
        "df_clean.drop(df_clean[df_clean.BILL_AMT5 >= 500000].index, axis=0, inplace=True)\n",
        "df_clean.drop(df_clean[df_clean.BILL_AMT6 >= 500000].index, axis=0, inplace=True)\n",
        "df_clean.drop(df_clean[df_clean.BILL_AMT1 <= -100000].index, axis=0, inplace=True)\n",
        "df_clean.drop(df_clean[df_clean.BILL_AMT2 <= -100000].index, axis=0, inplace=True)\n",
        "df_clean.drop(df_clean[df_clean.BILL_AMT3 <= -100000].index, axis=0, inplace=True)\n",
        "df_clean.drop(df_clean[df_clean.BILL_AMT4 <= -100000].index, axis=0, inplace=True)\n",
        "df_clean.drop(df_clean[df_clean.BILL_AMT5 <= -100000].index, axis=0, inplace=True)\n",
        "df_clean.drop(df_clean[df_clean.BILL_AMT6 <= -100000].index, axis=0, inplace=True)\n",
        "df_clean.drop(df_clean[df_clean.PAY_AMT1 >= 250000].index, axis=0, inplace=True)\n",
        "df_clean.drop(df_clean[df_clean.PAY_AMT2 >= 250000].index, axis=0, inplace=True)\n",
        "df_clean.drop(df_clean[df_clean.PAY_AMT3 >= 250000].index, axis=0, inplace=True)\n",
        "df_clean.drop(df_clean[df_clean.PAY_AMT4 >= 250000].index, axis=0, inplace=True)\n",
        "df_clean.drop(df_clean[df_clean.PAY_AMT5 >= 250000].index, axis=0, inplace=True)\n",
        "df_clean.drop(df_clean[df_clean.PAY_AMT6 >= 250000].index, axis=0, inplace=True)"
      ]
    },
    {
      "cell_type": "code",
      "execution_count": 96,
      "metadata": {
        "colab": {
          "base_uri": "https://localhost:8080/",
          "height": 955
        },
        "id": "fGjRAU1jwZQL",
        "outputId": "8acdeefc-e731-4c30-ccbc-690619fb5739"
      },
      "outputs": [
        {
          "data": {
            "image/png": "[encoded data removed]",
            "text/plain": [
              "<Figure size 720x1080 with 3 Axes>"
            ]
          },
          "metadata": {
            "needs_background": "light",
            "tags": []
          },
          "output_type": "display_data"
        }
      ],
      "source": [
        "# plot the new boxplots for LIMIT_BAL, BILL_AMT1 e PAY_AMT1\n",
        "fig, (ax1, ax2, ax3) = plt.subplots(nrows=1, ncols=3, figsize=(10,15))\n",
        "sns.boxplot(data=df_clean.LIMIT_BAL, ax=ax1, orient=\"v\")\n",
        "sns.boxplot(data=df_clean.BILL_AMT1, ax=ax2, orient=\"v\")\n",
        "sns.boxplot(data=df_clean.PAY_AMT1, ax=ax3, orient=\"v\")\n",
        "ax1.set_title('boxplot for LIMIT_BAL after cleaning')\n",
        "ax2.set_title('boxplot for BILL_AMT1 after cleaning')\n",
        "ax3.set_title('boxplot for PAY_AMT1 after cleaning')\n",
        "plt.tight_layout()"
      ]
    },
    {
      "cell_type": "markdown",
      "metadata": {
        "id": "ya8AKjsvs_5k"
      },
      "source": [
        "### Feature selection\n",
        "\n",
        "Let's go ahead and drop `ID` as it's not relevant for building our model.\n",
        "\n",
        "Let's group `BILL_AMT1` to `BILL_AMT6` in a new feature `TOTAL_BILL` that will be the sum of them, meaning the total bill amount for the analysed time period (from April til September 2005).\n",
        "\n",
        "Similarly let's group `PAY_AMT1` to `PAY_AMT6` in a new feature `TOTAL_PAY` that will be the sum of them, meaning the total pay amount for the analysed time period (from April til September 2005)."
      ]
    },
    {
      "cell_type": "code",
      "execution_count": 97,
      "metadata": {
        "colab": {
          "base_uri": "https://localhost:8080/"
        },
        "id": "fZAxVoJatii5",
        "outputId": "a3b349cc-6718-4977-a73b-758992b133bd"
      },
      "outputs": [
        {
          "name": "stdout",
          "output_type": "stream",
          "text": [
            "Final columns:\n",
            "\n",
            "<class 'pandas.core.frame.DataFrame'>\n",
            "Int64Index: 29803 entries, 0 to 29999\n",
            "Data columns (total 14 columns):\n",
            " #   Column                      Non-Null Count  Dtype  \n",
            "---  ------                      --------------  -----  \n",
            " 0   LIMIT_BAL                   29803 non-null  float64\n",
            " 1   SEX                         29803 non-null  int64  \n",
            " 2   EDUCATION                   29803 non-null  int64  \n",
            " 3   MARRIAGE                    29803 non-null  int64  \n",
            " 4   AGE                         29803 non-null  int64  \n",
            " 5   PAY_0                       29803 non-null  int64  \n",
            " 6   PAY_2                       29803 non-null  int64  \n",
            " 7   PAY_3                       29803 non-null  int64  \n",
            " 8   PAY_4                       29803 non-null  int64  \n",
            " 9   PAY_5                       29803 non-null  int64  \n",
            " 10  PAY_6                       29803 non-null  int64  \n",
            " 11  default.payment.next.month  29803 non-null  int64  \n",
            " 12  TOTAL_BILL                  29803 non-null  float64\n",
            " 13  TOTAL_PAY                   29803 non-null  float64\n",
            "dtypes: float64(3), int64(11)\n",
            "memory usage: 4.7 MB\n",
            "None\n"
          ]
        }
      ],
      "source": [
        "# drop ID\n",
        "df_clean.drop('ID', axis=1, inplace=True)\n",
        "\n",
        "# create features by grouping the other features\n",
        "df_clean['TOTAL_BILL'] = df['BILL_AMT1'] + df['BILL_AMT2'] + df['BILL_AMT3'] + df['BILL_AMT4'] + df['BILL_AMT5'] + df['BILL_AMT6']\n",
        "df_clean['TOTAL_PAY'] = df['PAY_AMT1'] + df['PAY_AMT2'] + df['PAY_AMT3'] + df['PAY_AMT4'] + df['PAY_AMT5'] + df['PAY_AMT6']\n",
        "df_clean.drop(columns=['BILL_AMT1', 'BILL_AMT2', 'BILL_AMT3', 'BILL_AMT4', 'BILL_AMT5', 'BILL_AMT6', 'PAY_AMT1', 'PAY_AMT2', 'PAY_AMT3', 'PAY_AMT4', 'PAY_AMT5', 'PAY_AMT6'], inplace=True)\n",
        "\n",
        "# check the columns after feature selection\n",
        "print(\"Final columns:\\n\")\n",
        "print(df_clean.info())"
      ]
    },
    {
      "cell_type": "markdown",
      "metadata": {
        "id": "UJS3ScGZrpDa"
      },
      "source": [
        "Let's plot a new correlation matrix heatmap and see how it looks after all this cleaning."
      ]
    },
    {
      "cell_type": "code",
      "execution_count": 98,
      "metadata": {
        "colab": {
          "base_uri": "https://localhost:8080/",
          "height": 666
        },
        "id": "EjnT2Lwlq4W7",
        "outputId": "f4ffbbbf-d601-47ad-905c-d48ba3f80ee6"
      },
      "outputs": [
        {
          "data": {
            "image/png": "[encoded data removed]",
            "text/plain": [
              "<Figure size 720x720 with 2 Axes>"
            ]
          },
          "metadata": {
            "needs_background": "light",
            "tags": []
          },
          "output_type": "display_data"
        }
      ],
      "source": [
        "# plot new correlation heatmap matrix\n",
        "corr_clean = df_clean.corr()\n",
        "mask = np.triu(np.ones_like(corr_clean, dtype=bool))\n",
        "plt.figure(figsize=(10,10))\n",
        "sns.heatmap(corr_clean, mask=mask, fmt='.0%', annot=True)\n",
        "plt.tight_layout()"
      ]
    },
    {
      "cell_type": "markdown",
      "metadata": {
        "id": "0ZxC41gLr3JX"
      },
      "source": [
        "There was an increase in the correlation between `PAY_0` to `PAY_6` and the target feature. "
      ]
    },
    {
      "cell_type": "markdown",
      "metadata": {
        "id": "x4BYTTfcuwon"
      },
      "source": [
        "### Feature coding\n",
        "\n",
        "Let's code `EDUCATION`, `MARRIAGE` and `PAY_0` to `PAY_6` with `get_dummies`."
      ]
    },
    {
      "cell_type": "code",
      "execution_count": 99,
      "metadata": {
        "colab": {
          "base_uri": "https://localhost:8080/",
          "height": 224
        },
        "id": "AHKA12dqyegN",
        "outputId": "f6280662-5b67-457c-d3e0-32637aecde6c"
      },
      "outputs": [
        {
          "data": {
            "text/html": [
              "<div>\n",
              "<style scoped>\n",
              "    .dataframe tbody tr th:only-of-type {\n",
              "        vertical-align: middle;\n",
              "    }\n",
              "\n",
              "    .dataframe tbody tr th {\n",
              "        vertical-align: top;\n",
              "    }\n",
              "\n",
              "    .dataframe thead th {\n",
              "        text-align: right;\n",
              "    }\n",
              "</style>\n",
              "<table border=\"1\" class=\"dataframe\">\n",
              "  <thead>\n",
              "    <tr style=\"text-align: right;\">\n",
              "      <th></th>\n",
              "      <th>LIMIT_BAL</th>\n",
              "      <th>SEX</th>\n",
              "      <th>AGE</th>\n",
              "      <th>default.payment.next.month</th>\n",
              "      <th>TOTAL_BILL</th>\n",
              "      <th>TOTAL_PAY</th>\n",
              "      <th>EDUCATION_2</th>\n",
              "      <th>EDUCATION_3</th>\n",
              "      <th>EDUCATION_4</th>\n",
              "      <th>MARRIAGE_2</th>\n",
              "      <th>MARRIAGE_3</th>\n",
              "      <th>PAY_0_1</th>\n",
              "      <th>PAY_0_2</th>\n",
              "      <th>PAY_0_3</th>\n",
              "      <th>PAY_0_4</th>\n",
              "      <th>PAY_0_5</th>\n",
              "      <th>PAY_0_6</th>\n",
              "      <th>PAY_0_7</th>\n",
              "      <th>PAY_0_8</th>\n",
              "      <th>PAY_2_1</th>\n",
              "      <th>PAY_2_2</th>\n",
              "      <th>PAY_2_3</th>\n",
              "      <th>PAY_2_4</th>\n",
              "      <th>PAY_2_5</th>\n",
              "      <th>PAY_2_6</th>\n",
              "      <th>PAY_2_7</th>\n",
              "      <th>PAY_2_8</th>\n",
              "      <th>PAY_3_1</th>\n",
              "      <th>PAY_3_2</th>\n",
              "      <th>PAY_3_3</th>\n",
              "      <th>PAY_3_4</th>\n",
              "      <th>PAY_3_5</th>\n",
              "      <th>PAY_3_6</th>\n",
              "      <th>PAY_3_7</th>\n",
              "      <th>PAY_3_8</th>\n",
              "      <th>PAY_4_1</th>\n",
              "      <th>PAY_4_2</th>\n",
              "      <th>PAY_4_3</th>\n",
              "      <th>PAY_4_4</th>\n",
              "      <th>PAY_4_5</th>\n",
              "      <th>PAY_4_6</th>\n",
              "      <th>PAY_4_7</th>\n",
              "      <th>PAY_4_8</th>\n",
              "      <th>PAY_5_2</th>\n",
              "      <th>PAY_5_3</th>\n",
              "      <th>PAY_5_4</th>\n",
              "      <th>PAY_5_5</th>\n",
              "      <th>PAY_5_6</th>\n",
              "      <th>PAY_5_7</th>\n",
              "      <th>PAY_5_8</th>\n",
              "      <th>PAY_6_2</th>\n",
              "      <th>PAY_6_3</th>\n",
              "      <th>PAY_6_4</th>\n",
              "      <th>PAY_6_5</th>\n",
              "      <th>PAY_6_6</th>\n",
              "      <th>PAY_6_7</th>\n",
              "      <th>PAY_6_8</th>\n",
              "    </tr>\n",
              "  </thead>\n",
              "  <tbody>\n",
              "    <tr>\n",
              "      <th>0</th>\n",
              "      <td>20000.0</td>\n",
              "      <td>2</td>\n",
              "      <td>24</td>\n",
              "      <td>1</td>\n",
              "      <td>7704.0</td>\n",
              "      <td>689.0</td>\n",
              "      <td>1</td>\n",
              "      <td>0</td>\n",
              "      <td>0</td>\n",
              "      <td>0</td>\n",
              "      <td>0</td>\n",
              "      <td>0</td>\n",
              "      <td>1</td>\n",
              "      <td>0</td>\n",
              "      <td>0</td>\n",
              "      <td>0</td>\n",
              "      <td>0</td>\n",
              "      <td>0</td>\n",
              "      <td>0</td>\n",
              "      <td>0</td>\n",
              "      <td>1</td>\n",
              "      <td>0</td>\n",
              "      <td>0</td>\n",
              "      <td>0</td>\n",
              "      <td>0</td>\n",
              "      <td>0</td>\n",
              "      <td>0</td>\n",
              "      <td>0</td>\n",
              "      <td>0</td>\n",
              "      <td>0</td>\n",
              "      <td>0</td>\n",
              "      <td>0</td>\n",
              "      <td>0</td>\n",
              "      <td>0</td>\n",
              "      <td>0</td>\n",
              "      <td>0</td>\n",
              "      <td>0</td>\n",
              "      <td>0</td>\n",
              "      <td>0</td>\n",
              "      <td>0</td>\n",
              "      <td>0</td>\n",
              "      <td>0</td>\n",
              "      <td>0</td>\n",
              "      <td>0</td>\n",
              "      <td>0</td>\n",
              "      <td>0</td>\n",
              "      <td>0</td>\n",
              "      <td>0</td>\n",
              "      <td>0</td>\n",
              "      <td>0</td>\n",
              "      <td>0</td>\n",
              "      <td>0</td>\n",
              "      <td>0</td>\n",
              "      <td>0</td>\n",
              "      <td>0</td>\n",
              "      <td>0</td>\n",
              "      <td>0</td>\n",
              "    </tr>\n",
              "    <tr>\n",
              "      <th>1</th>\n",
              "      <td>120000.0</td>\n",
              "      <td>2</td>\n",
              "      <td>26</td>\n",
              "      <td>1</td>\n",
              "      <td>17077.0</td>\n",
              "      <td>5000.0</td>\n",
              "      <td>1</td>\n",
              "      <td>0</td>\n",
              "      <td>0</td>\n",
              "      <td>1</td>\n",
              "      <td>0</td>\n",
              "      <td>0</td>\n",
              "      <td>0</td>\n",
              "      <td>0</td>\n",
              "      <td>0</td>\n",
              "      <td>0</td>\n",
              "      <td>0</td>\n",
              "      <td>0</td>\n",
              "      <td>0</td>\n",
              "      <td>0</td>\n",
              "      <td>1</td>\n",
              "      <td>0</td>\n",
              "      <td>0</td>\n",
              "      <td>0</td>\n",
              "      <td>0</td>\n",
              "      <td>0</td>\n",
              "      <td>0</td>\n",
              "      <td>0</td>\n",
              "      <td>0</td>\n",
              "      <td>0</td>\n",
              "      <td>0</td>\n",
              "      <td>0</td>\n",
              "      <td>0</td>\n",
              "      <td>0</td>\n",
              "      <td>0</td>\n",
              "      <td>0</td>\n",
              "      <td>0</td>\n",
              "      <td>0</td>\n",
              "      <td>0</td>\n",
              "      <td>0</td>\n",
              "      <td>0</td>\n",
              "      <td>0</td>\n",
              "      <td>0</td>\n",
              "      <td>0</td>\n",
              "      <td>0</td>\n",
              "      <td>0</td>\n",
              "      <td>0</td>\n",
              "      <td>0</td>\n",
              "      <td>0</td>\n",
              "      <td>0</td>\n",
              "      <td>1</td>\n",
              "      <td>0</td>\n",
              "      <td>0</td>\n",
              "      <td>0</td>\n",
              "      <td>0</td>\n",
              "      <td>0</td>\n",
              "      <td>0</td>\n",
              "    </tr>\n",
              "    <tr>\n",
              "      <th>2</th>\n",
              "      <td>90000.0</td>\n",
              "      <td>2</td>\n",
              "      <td>34</td>\n",
              "      <td>0</td>\n",
              "      <td>101653.0</td>\n",
              "      <td>11018.0</td>\n",
              "      <td>1</td>\n",
              "      <td>0</td>\n",
              "      <td>0</td>\n",
              "      <td>1</td>\n",
              "      <td>0</td>\n",
              "      <td>0</td>\n",
              "      <td>0</td>\n",
              "      <td>0</td>\n",
              "      <td>0</td>\n",
              "      <td>0</td>\n",
              "      <td>0</td>\n",
              "      <td>0</td>\n",
              "      <td>0</td>\n",
              "      <td>0</td>\n",
              "      <td>0</td>\n",
              "      <td>0</td>\n",
              "      <td>0</td>\n",
              "      <td>0</td>\n",
              "      <td>0</td>\n",
              "      <td>0</td>\n",
              "      <td>0</td>\n",
              "      <td>0</td>\n",
              "      <td>0</td>\n",
              "      <td>0</td>\n",
              "      <td>0</td>\n",
              "      <td>0</td>\n",
              "      <td>0</td>\n",
              "      <td>0</td>\n",
              "      <td>0</td>\n",
              "      <td>0</td>\n",
              "      <td>0</td>\n",
              "      <td>0</td>\n",
              "      <td>0</td>\n",
              "      <td>0</td>\n",
              "      <td>0</td>\n",
              "      <td>0</td>\n",
              "      <td>0</td>\n",
              "      <td>0</td>\n",
              "      <td>0</td>\n",
              "      <td>0</td>\n",
              "      <td>0</td>\n",
              "      <td>0</td>\n",
              "      <td>0</td>\n",
              "      <td>0</td>\n",
              "      <td>0</td>\n",
              "      <td>0</td>\n",
              "      <td>0</td>\n",
              "      <td>0</td>\n",
              "      <td>0</td>\n",
              "      <td>0</td>\n",
              "      <td>0</td>\n",
              "    </tr>\n",
              "    <tr>\n",
              "      <th>3</th>\n",
              "      <td>50000.0</td>\n",
              "      <td>2</td>\n",
              "      <td>37</td>\n",
              "      <td>0</td>\n",
              "      <td>231334.0</td>\n",
              "      <td>8388.0</td>\n",
              "      <td>1</td>\n",
              "      <td>0</td>\n",
              "      <td>0</td>\n",
              "      <td>0</td>\n",
              "      <td>0</td>\n",
              "      <td>0</td>\n",
              "      <td>0</td>\n",
              "      <td>0</td>\n",
              "      <td>0</td>\n",
              "      <td>0</td>\n",
              "      <td>0</td>\n",
              "      <td>0</td>\n",
              "      <td>0</td>\n",
              "      <td>0</td>\n",
              "      <td>0</td>\n",
              "      <td>0</td>\n",
              "      <td>0</td>\n",
              "      <td>0</td>\n",
              "      <td>0</td>\n",
              "      <td>0</td>\n",
              "      <td>0</td>\n",
              "      <td>0</td>\n",
              "      <td>0</td>\n",
              "      <td>0</td>\n",
              "      <td>0</td>\n",
              "      <td>0</td>\n",
              "      <td>0</td>\n",
              "      <td>0</td>\n",
              "      <td>0</td>\n",
              "      <td>0</td>\n",
              "      <td>0</td>\n",
              "      <td>0</td>\n",
              "      <td>0</td>\n",
              "      <td>0</td>\n",
              "      <td>0</td>\n",
              "      <td>0</td>\n",
              "      <td>0</td>\n",
              "      <td>0</td>\n",
              "      <td>0</td>\n",
              "      <td>0</td>\n",
              "      <td>0</td>\n",
              "      <td>0</td>\n",
              "      <td>0</td>\n",
              "      <td>0</td>\n",
              "      <td>0</td>\n",
              "      <td>0</td>\n",
              "      <td>0</td>\n",
              "      <td>0</td>\n",
              "      <td>0</td>\n",
              "      <td>0</td>\n",
              "      <td>0</td>\n",
              "    </tr>\n",
              "    <tr>\n",
              "      <th>4</th>\n",
              "      <td>50000.0</td>\n",
              "      <td>1</td>\n",
              "      <td>57</td>\n",
              "      <td>0</td>\n",
              "      <td>109339.0</td>\n",
              "      <td>59049.0</td>\n",
              "      <td>1</td>\n",
              "      <td>0</td>\n",
              "      <td>0</td>\n",
              "      <td>0</td>\n",
              "      <td>0</td>\n",
              "      <td>0</td>\n",
              "      <td>0</td>\n",
              "      <td>0</td>\n",
              "      <td>0</td>\n",
              "      <td>0</td>\n",
              "      <td>0</td>\n",
              "      <td>0</td>\n",
              "      <td>0</td>\n",
              "      <td>0</td>\n",
              "      <td>0</td>\n",
              "      <td>0</td>\n",
              "      <td>0</td>\n",
              "      <td>0</td>\n",
              "      <td>0</td>\n",
              "      <td>0</td>\n",
              "      <td>0</td>\n",
              "      <td>0</td>\n",
              "      <td>0</td>\n",
              "      <td>0</td>\n",
              "      <td>0</td>\n",
              "      <td>0</td>\n",
              "      <td>0</td>\n",
              "      <td>0</td>\n",
              "      <td>0</td>\n",
              "      <td>0</td>\n",
              "      <td>0</td>\n",
              "      <td>0</td>\n",
              "      <td>0</td>\n",
              "      <td>0</td>\n",
              "      <td>0</td>\n",
              "      <td>0</td>\n",
              "      <td>0</td>\n",
              "      <td>0</td>\n",
              "      <td>0</td>\n",
              "      <td>0</td>\n",
              "      <td>0</td>\n",
              "      <td>0</td>\n",
              "      <td>0</td>\n",
              "      <td>0</td>\n",
              "      <td>0</td>\n",
              "      <td>0</td>\n",
              "      <td>0</td>\n",
              "      <td>0</td>\n",
              "      <td>0</td>\n",
              "      <td>0</td>\n",
              "      <td>0</td>\n",
              "    </tr>\n",
              "  </tbody>\n",
              "</table>\n",
              "</div>"
            ],
            "text/plain": [
              "   LIMIT_BAL  SEX  AGE  ...  PAY_6_6  PAY_6_7  PAY_6_8\n",
              "0    20000.0    2   24  ...        0        0        0\n",
              "1   120000.0    2   26  ...        0        0        0\n",
              "2    90000.0    2   34  ...        0        0        0\n",
              "3    50000.0    2   37  ...        0        0        0\n",
              "4    50000.0    1   57  ...        0        0        0\n",
              "\n",
              "[5 rows x 57 columns]"
            ]
          },
          "execution_count": 99,
          "metadata": {
            "tags": []
          },
          "output_type": "execute_result"
        }
      ],
      "source": [
        "# make a copy of df_clean\n",
        "df_prep = df_clean.copy()\n",
        "\n",
        "# code with get_dummies\n",
        "df_prep = pd.get_dummies(df_prep, columns=['EDUCATION', 'MARRIAGE', 'PAY_0', 'PAY_2', 'PAY_3', 'PAY_4', 'PAY_5', 'PAY_6'], drop_first=True)\n",
        "\n",
        "# check how it looks afterwards\n",
        "df_prep.head()"
      ]
    },
    {
      "cell_type": "markdown",
      "metadata": {
        "id": "X1dJVucqw-tl"
      },
      "source": [
        "We're all set now!"
      ]
    },
    {
      "cell_type": "markdown",
      "metadata": {
        "id": "qQzQWA6wmZfN"
      },
      "source": [
        "### Dataset splitting\n",
        "\n",
        "Let's split our dataset into train and test sets. The test set will only be used at the very end of the process."
      ]
    },
    {
      "cell_type": "code",
      "execution_count": 100,
      "metadata": {
        "colab": {
          "base_uri": "https://localhost:8080/"
        },
        "id": "PNDwUTDksx-T",
        "outputId": "ec167fbf-fbad-448d-ded4-a2ab21afd9ea"
      },
      "outputs": [
        {
          "name": "stdout",
          "output_type": "stream",
          "text": [
            "X_train size: (22352, 56)\n",
            "y_train size: (22352,)\n",
            "X_test size: (7451, 56)\n",
            "y_test size: (7451,)\n"
          ]
        }
      ],
      "source": [
        "# split into feature matrix (X) and target vector (y)\n",
        "X = df_prep.drop('default.payment.next.month', axis=1)\n",
        "y = df_prep['default.payment.next.month']\n",
        "\n",
        "# split into train and test\n",
        "from sklearn.model_selection import train_test_split\n",
        "X_train, X_test, y_train, y_test = train_test_split(X, y, shuffle=True, stratify=y, random_state=1)\n",
        "\n",
        "# check the size after splitting\n",
        "print('X_train size:', X_train.shape)\n",
        "print('y_train size:', y_train.shape)\n",
        "print('X_test size:', X_test.shape)\n",
        "print('y_test size:', y_test.shape)"
      ]
    },
    {
      "cell_type": "markdown",
      "metadata": {
        "id": "-cnZNcZBv4OA"
      },
      "source": [
        "## Machine Learning Models\n",
        "\n",
        "Let's run some tests to pick the final model.\n",
        "\n",
        "As a project premise we'll be taking **recall** and **F-1 score** as metrics and here's why we made this call:\n",
        "\n",
        "The goal here is to predict default and for that we want the highest *true positives* (true=1, predicted=1) and the lowest *false negatives* (true=1, predicted=0). On the other hand it's not that big of a deal if we have some *false positives* (true=0, predicted=1) as it won't be as costy for the company. With that in mind, the model's accuracy is not our main concern here.\n"
      ]
    },
    {
      "cell_type": "markdown",
      "metadata": {
        "id": "LcxWnUbx1goY"
      },
      "source": [
        "### Scaling and balancing\n",
        "\n",
        "Let's create a baseline model using StandardScaler and unbalanced data.\n",
        "\n",
        "After that we will run tests using 2 scaler techniques (`StandardScaler` e `MinMaxScaler`) and 2 balancing techniques (`RandomUnderSampler` e `SMOTE`) so we can see which pair works best.\n",
        "\n",
        "We will use the **Logistic Regression** model to run the tests."
      ]
    },
    {
      "cell_type": "markdown",
      "metadata": {
        "id": "WSVFGSFIpzny"
      },
      "source": [
        "**Baseline - StandardScaler + unbalanced data**"
      ]
    },
    {
      "cell_type": "code",
      "execution_count": 101,
      "metadata": {
        "colab": {
          "base_uri": "https://localhost:8080/"
        },
        "id": "jw7oxxYH3laU",
        "outputId": "665eb833-986b-4d0c-bfcb-45661b07c4bd"
      },
      "outputs": [
        {
          "name": "stdout",
          "output_type": "stream",
          "text": [
            "Baseline:\n",
            "Recall: 0.35 (+/-0.02)\n",
            "F-1 score: 0.46 (+/-0.02)\n"
          ]
        }
      ],
      "source": [
        "# scale with StandardScaler\n",
        "from sklearn.preprocessing import StandardScaler\n",
        "scaler = StandardScaler().fit(X_train)\n",
        "X_train_ss = scaler.transform(X_train)\n",
        "\n",
        "# define the baseline model\n",
        "from sklearn.linear_model import LogisticRegression\n",
        "bl_model = LogisticRegression(random_state=1, max_iter=500)\n",
        "\n",
        "# cross-validation\n",
        "from sklearn.model_selection import cross_val_score\n",
        "score_r0 = cross_val_score(bl_model, X_train_ss, y_train, cv=5, scoring='recall')\n",
        "print(\"Baseline:\\nRecall: %0.2f (+/-%0.2f)\" %(score_r0.mean(), score_r0.std()*2))\n",
        "score_f0 = cross_val_score(bl_model, X_train_ss, y_train, cv=5, scoring='f1')\n",
        "print(\"F-1 score: %0.2f (+/-%0.2f)\" %(score_f0.mean(), score_f0.std()*2))"
      ]
    },
    {
      "cell_type": "markdown",
      "metadata": {
        "id": "bk8LFmVF0eo1"
      },
      "source": [
        "**Test 1 - StandardScaler + RandomUnderSampler**"
      ]
    },
    {
      "cell_type": "code",
      "execution_count": 102,
      "metadata": {
        "colab": {
          "base_uri": "https://localhost:8080/"
        },
        "id": "jOl2kqkCn580",
        "outputId": "72d59c30-fb2f-4dc8-8bbe-0c02b949c4d0"
      },
      "outputs": [
        {
          "name": "stdout",
          "output_type": "stream",
          "text": [
            "Test 1: StandardScaler + RandomUnderSampler\n",
            "Recall: 0.56 (+/-0.02)\n",
            "F-1 score: 0.65 (+/-0.01)\n"
          ]
        }
      ],
      "source": [
        "# scale with RandomUnderSampler\n",
        "from imblearn.under_sampling import RandomUnderSampler\n",
        "X_train_1, y_train_1 = RandomUnderSampler().fit_sample(X_train_ss, y_train)\n",
        "\n",
        "# cross-validation\n",
        "score_r1 = cross_val_score(bl_model, X_train_1, y_train_1, cv=5, scoring='recall')\n",
        "print(\"Test 1: StandardScaler + RandomUnderSampler\\nRecall: %0.2f (+/-%0.2f)\" %(score_r1.mean(), score_r1.std()*2))\n",
        "score_f1 = cross_val_score(bl_model, X_train_1, y_train_1, cv=5, scoring='f1')\n",
        "print(\"F-1 score: %0.2f (+/-%0.2f)\" %(score_f1.mean(), score_f1.std()*2))"
      ]
    },
    {
      "cell_type": "markdown",
      "metadata": {
        "id": "kKnnYZ_C1bx5"
      },
      "source": [
        "**Test 2 - StandardScaler + SMOTE**"
      ]
    },
    {
      "cell_type": "code",
      "execution_count": 103,
      "metadata": {
        "colab": {
          "base_uri": "https://localhost:8080/"
        },
        "id": "nh3jvvadknfT",
        "outputId": "5313711e-5cf1-44f0-f3d7-46e9558ab2d6"
      },
      "outputs": [
        {
          "name": "stdout",
          "output_type": "stream",
          "text": [
            "Test 2: StandardScaler + SMOTE\n",
            "Recall: 0.56 (+/-0.01)\n",
            "F-1 score: 0.65 (+/-0.01)\n"
          ]
        }
      ],
      "source": [
        "# balance with SMOTE\n",
        "from imblearn.over_sampling import SMOTE\n",
        "X_train_2, y_train_2 = SMOTE().fit_sample(X_train_ss,y_train)\n",
        "\n",
        "#cross-validatio\n",
        "score_r2 = cross_val_score(bl_model, X_train_2, y_train_2, cv=5, scoring='recall')\n",
        "print(\"Test 2: StandardScaler + SMOTE\\nRecall: %0.2f (+/-%0.2f)\" %(score_r2.mean(), score_r2.std()*2))\n",
        "score_f2 = cross_val_score(bl_model, X_train_2, y_train_2, cv=5, scoring='f1')\n",
        "print(\"F-1 score: %0.2f (+/-%0.2f)\" %(score_f2.mean(), score_f2.std()*2))"
      ]
    },
    {
      "cell_type": "markdown",
      "metadata": {
        "id": "MBx3_wEq1m3a"
      },
      "source": [
        "**Test 3 - MinMaxScaler + RandomUnderSampler**"
      ]
    },
    {
      "cell_type": "code",
      "execution_count": 104,
      "metadata": {
        "colab": {
          "base_uri": "https://localhost:8080/"
        },
        "id": "67RoaTo2v-GO",
        "outputId": "63a67257-485e-4a02-8db1-859aa799c25d"
      },
      "outputs": [
        {
          "name": "stdout",
          "output_type": "stream",
          "text": [
            "Test 3: MinMaxScaler + RandomUnderSampler\n",
            "Recall: 0.56 (+/-0.02)\n",
            "F-1 score: 0.65 (+/-0.02)\n"
          ]
        }
      ],
      "source": [
        "# scale with MinMaxScaler\n",
        "from sklearn.preprocessing import MinMaxScaler\n",
        "minmax = MinMaxScaler().fit(X_train)\n",
        "X_train_mm = minmax.transform(X_train)\n",
        "\n",
        "# balance with RandomUnderSampler\n",
        "X_train_3, y_train_3 = RandomUnderSampler().fit_sample(X_train_mm, y_train)\n",
        "\n",
        "#cross-validation\n",
        "score_r3 = cross_val_score(bl_model, X_train_3, y_train_3, cv=5, scoring='recall')\n",
        "print(\"Test 3: MinMaxScaler + RandomUnderSampler\\nRecall: %0.2f (+/-%0.2f)\" %(score_r3.mean(), score_r3.std()*2))\n",
        "score_f3 = cross_val_score(bl_model, X_train_3, y_train_3, cv=5, scoring='f1')\n",
        "print(\"F-1 score: %0.2f (+/-%0.2f)\" %(score_f3.mean(), score_f3.std()*2))"
      ]
    },
    {
      "cell_type": "markdown",
      "metadata": {
        "id": "glXUTw6G2KLe"
      },
      "source": [
        "**Test 4 - MinMaxScaler + SMOTE**"
      ]
    },
    {
      "cell_type": "code",
      "execution_count": 105,
      "metadata": {
        "colab": {
          "base_uri": "https://localhost:8080/"
        },
        "id": "qRglys51w34t",
        "outputId": "a9d073e2-7322-4b61-adea-c5929d2f6267"
      },
      "outputs": [
        {
          "name": "stdout",
          "output_type": "stream",
          "text": [
            "Test 4: MinMaxScaler + SMOTE\n",
            "Recall: 0.56 (+/-0.02)\n",
            "F-1 score: 0.65 (+/-0.01)\n"
          ]
        }
      ],
      "source": [
        "# balance with SMOTE\n",
        "X_train_4, y_train_4 = SMOTE().fit_sample(X_train_mm,y_train)\n",
        "\n",
        "# cross-validation\n",
        "score_r4 = cross_val_score(bl_model, X_train_4, y_train_4, cv=5, scoring='recall')\n",
        "print(\"Test 4: MinMaxScaler + SMOTE\\nRecall: %0.2f (+/-%0.2f)\" %(score_r4.mean(), score_r4.std()*2))\n",
        "score_f4 = cross_val_score(bl_model, X_train_4, y_train_4, cv=5, scoring='f1')\n",
        "print(\"F-1 score: %0.2f (+/-%0.2f)\" %(score_f4.mean(), score_f4.std()*2))"
      ]
    },
    {
      "cell_type": "markdown",
      "metadata": {
        "id": "kKtnd6Lo5bf2"
      },
      "source": [
        "There was a great improvement from the baseline model to the test 1 model but the difference between the tests (1 to 4) wasn't as relevant.\n",
        "\n",
        "We will take the pair tested on **test 4**: `MinMaxScaler` + `SMOTE`.\n",
        "\n",
        "Let's plot a new countplot to see the balanced distribution.\n"
      ]
    },
    {
      "cell_type": "code",
      "execution_count": 106,
      "metadata": {
        "colab": {
          "base_uri": "https://localhost:8080/",
          "height": 348
        },
        "id": "JHi4ArFR6hMn",
        "outputId": "f150e2b1-5b65-4ab7-be83-ab7e7e315577"
      },
      "outputs": [
        {
          "name": "stdout",
          "output_type": "stream",
          "text": [
            "1    17403\n",
            "0    17403\n",
            "dtype: int64\n"
          ]
        },
        {
          "data": {
            "image/png": "[encoded data removed]",
            "text/plain": [
              "<Figure size 432x288 with 1 Axes>"
            ]
          },
          "metadata": {
            "needs_background": "light",
            "tags": []
          },
          "output_type": "display_data"
        }
      ],
      "source": [
        "# define X_train_final and y_train_final\n",
        "X_train_final = X_train_4\n",
        "y_train_final = y_train_4\n",
        "\n",
        "# scaling the test set\n",
        "X_test = minmax.transform(X_test)\n",
        "\n",
        "# check the new distribution\n",
        "print(pd.Series(y_train_final).value_counts())\n",
        "\n",
        "# plot the new countplot\n",
        "fig, ax = plt.subplots()\n",
        "sns.countplot(y_train_final)\n",
        "ax.set_title('Distribution after SMOTE balancing')\n",
        "ax.set_xlabel('default')\n",
        "plt.tight_layout()"
      ]
    },
    {
      "cell_type": "code",
      "execution_count": 107,
      "metadata": {
        "colab": {
          "base_uri": "https://localhost:8080/"
        },
        "id": "_mIh-5EFaaLa",
        "outputId": "9ce12294-6696-4a72-fcc8-489eace492c7"
      },
      "outputs": [
        {
          "name": "stdout",
          "output_type": "stream",
          "text": [
            "X_train_final size: (34806, 56)\n",
            "y_train_final size: (34806,)\n",
            "X_test size: (7451, 56)\n",
            "y_test size: (7451,)\n"
          ]
        }
      ],
      "source": [
        "# check the size of final sets\n",
        "print('X_train_final size:', X_train_final.shape)\n",
        "print('y_train_final size:', y_train_final.shape)\n",
        "print('X_test size:', X_test.shape)\n",
        "print('y_test size:', y_test.shape)"
      ]
    },
    {
      "cell_type": "markdown",
      "metadata": {
        "id": "BWjXdzFu7hXJ"
      },
      "source": [
        "### Choosing the models\n",
        "\n",
        "Let's do a cross-validation to train some classification models so we can evaluate their performance (using the `recall` and `f1-score` metric) and then pick the most suitable one(s).\n",
        "\n",
        "The models we will train are:\n",
        "\n",
        "* Random Forest\n",
        "* Decision Tree\n",
        "* SGD\n",
        "* SVC\n",
        "* XGBoost\n",
        "* LGBM"
      ]
    },
    {
      "cell_type": "code",
      "execution_count": 108,
      "metadata": {
        "colab": {
          "base_uri": "https://localhost:8080/",
          "height": 235
        },
        "id": "N-4iL9GF7ngb",
        "outputId": "b6083dcd-ffa1-4aa7-8b3a-92c8d58c639c"
      },
      "outputs": [
        {
          "data": {
            "text/html": [
              "<div>\n",
              "<style scoped>\n",
              "    .dataframe tbody tr th:only-of-type {\n",
              "        vertical-align: middle;\n",
              "    }\n",
              "\n",
              "    .dataframe tbody tr th {\n",
              "        vertical-align: top;\n",
              "    }\n",
              "\n",
              "    .dataframe thead th {\n",
              "        text-align: right;\n",
              "    }\n",
              "</style>\n",
              "<table border=\"1\" class=\"dataframe\">\n",
              "  <thead>\n",
              "    <tr style=\"text-align: right;\">\n",
              "      <th></th>\n",
              "      <th>Recall</th>\n",
              "      <th>F-1 Score</th>\n",
              "    </tr>\n",
              "  </thead>\n",
              "  <tbody>\n",
              "    <tr>\n",
              "      <th>RandomForestClassifier</th>\n",
              "      <td>0.826526</td>\n",
              "      <td>0.830800</td>\n",
              "    </tr>\n",
              "    <tr>\n",
              "      <th>DecisionTreeClassifier</th>\n",
              "      <td>0.761079</td>\n",
              "      <td>0.754226</td>\n",
              "    </tr>\n",
              "    <tr>\n",
              "      <th>SGDClassifier</th>\n",
              "      <td>0.513417</td>\n",
              "      <td>0.618571</td>\n",
              "    </tr>\n",
              "    <tr>\n",
              "      <th>SVC</th>\n",
              "      <td>0.606850</td>\n",
              "      <td>0.673227</td>\n",
              "    </tr>\n",
              "    <tr>\n",
              "      <th>XGBClassifier</th>\n",
              "      <td>0.658395</td>\n",
              "      <td>0.732586</td>\n",
              "    </tr>\n",
              "    <tr>\n",
              "      <th>LGBMClassifier</th>\n",
              "      <td>0.770276</td>\n",
              "      <td>0.806885</td>\n",
              "    </tr>\n",
              "  </tbody>\n",
              "</table>\n",
              "</div>"
            ],
            "text/plain": [
              "                          Recall  F-1 Score\n",
              "RandomForestClassifier  0.826526   0.830800\n",
              "DecisionTreeClassifier  0.761079   0.754226\n",
              "SGDClassifier           0.513417   0.618571\n",
              "SVC                     0.606850   0.673227\n",
              "XGBClassifier           0.658395   0.732586\n",
              "LGBMClassifier          0.770276   0.806885"
            ]
          },
          "execution_count": 108,
          "metadata": {
            "tags": []
          },
          "output_type": "execute_result"
        }
      ],
      "source": [
        "# define the models\n",
        "from sklearn.ensemble import RandomForestClassifier\n",
        "from sklearn.tree import DecisionTreeClassifier\n",
        "from sklearn.linear_model import SGDClassifier\n",
        "from sklearn.svm import SVC\n",
        "from xgboost import XGBClassifier\n",
        "import xgboost as xgb\n",
        "from lightgbm import LGBMClassifier\n",
        "\n",
        "rf = RandomForestClassifier()\n",
        "dt = DecisionTreeClassifier()\n",
        "sgdc = SGDClassifier()\n",
        "svc = SVC()\n",
        "xgb = XGBClassifier()\n",
        "lgbm = LGBMClassifier()\n",
        "\n",
        "# cross-validation to evaluate recall and f1-score\n",
        "model = []\n",
        "recall = []\n",
        "f1 = []\n",
        "\n",
        "for clf in (rf, dt, sgdc, svc, xgb, lgbm):\n",
        "  model.append(clf.__class__.__name__)\n",
        "  scores_r = cross_val_score(clf, X_train_final, y_train_final, cv=5, scoring='recall')\n",
        "  recall.append(scores_r.mean())\n",
        "  scores_f = cross_val_score(clf, X_train_final, y_train_final, cv=5, scoring='f1')\n",
        "  f1.append(scores_f.mean())\n",
        "  data = list(zip(recall, f1))\n",
        "\n",
        "pd.DataFrame(data=data, index=model, columns=['Recall', 'F-1 Score'])"
      ]
    },
    {
      "cell_type": "markdown",
      "metadata": {
        "id": "PzE0MYZt4Snu"
      },
      "source": [
        "### Modelo 1 - Random Forest\n",
        "\n",
        "Random Forest model had the best performance on the training set so let's train it and evaluate it on the test set."
      ]
    },
    {
      "cell_type": "code",
      "execution_count": 109,
      "metadata": {
        "colab": {
          "base_uri": "https://localhost:8080/",
          "height": 501
        },
        "id": "ssV0e4sl4asf",
        "outputId": "ce866ccb-4d13-4d39-f66b-b70afb1c6582"
      },
      "outputs": [
        {
          "name": "stdout",
          "output_type": "stream",
          "text": [
            "Relatório de classificação - modelo 1:\n",
            "              precision    recall  f1-score   support\n",
            "\n",
            "           0       0.86      0.86      0.86      5801\n",
            "           1       0.50      0.51      0.50      1650\n",
            "\n",
            "    accuracy                           0.78      7451\n",
            "   macro avg       0.68      0.68      0.68      7451\n",
            "weighted avg       0.78      0.78      0.78      7451\n",
            "\n",
            "AUC: 0.6816\n",
            "\n"
          ]
        },
        {
          "data": {
            "image/png": "[encoded data removed]",
            "text/plain": [
              "<Figure size 432x288 with 2 Axes>"
            ]
          },
          "metadata": {
            "needs_background": "light",
            "tags": []
          },
          "output_type": "display_data"
        }
      ],
      "source": [
        "from sklearn.ensemble import RandomForestClassifier\n",
        "\n",
        "# define model 1\n",
        "model_1 = RandomForestClassifier(random_state=1)\n",
        "\n",
        "# train model 1\n",
        "model_1.fit(X_train_final, y_train_final)\n",
        "\n",
        "# make predictions on the test set\n",
        "y_pred_1 = model_1.predict(X_test)\n",
        "\n",
        "from sklearn import metrics\n",
        "from sklearn.metrics import roc_auc_score, accuracy_score, f1_score, confusion_matrix, classification_report\n",
        "from scikitplot.metrics import plot_confusion_matrix, plot_roc\n",
        "\n",
        "# print classification report\n",
        "print(\"Relatório de classificação - modelo 1:\")\n",
        "print(classification_report(y_test, y_pred_1))\n",
        "\n",
        "# print AUC\n",
        "print(\"AUC: {:.4f}\\n\".format(roc_auc_score(y_test, y_pred_1)))\n",
        "\n",
        "# plot confusion matrix\n",
        "fig, ax = plt.subplots()\n",
        "sns.heatmap(confusion_matrix(y_test, y_pred_1, normalize='true'), annot=True, ax=ax)\n",
        "ax.set_title(\"Confusion matrix - model 1\")\n",
        "ax.set_ylabel(\"True\")\n",
        "ax.set_xlabel(\"Predicted\")\n",
        "plt.tight_layout()"
      ]
    },
    {
      "cell_type": "markdown",
      "metadata": {
        "id": "g_kbdNqdYDgk"
      },
      "source": [
        "The Random Forest model wasn't able to generalize well on the test set.\n",
        "\n",
        "Let's try another model."
      ]
    },
    {
      "cell_type": "markdown",
      "metadata": {
        "id": "wCvJQ4K55vAx"
      },
      "source": [
        "### Modelo 2 - SVC"
      ]
    },
    {
      "cell_type": "code",
      "execution_count": 110,
      "metadata": {
        "colab": {
          "base_uri": "https://localhost:8080/",
          "height": 501
        },
        "id": "3zmRDc4f56ZU",
        "outputId": "3538ed34-2476-45cc-e1b5-e612ff413904"
      },
      "outputs": [
        {
          "name": "stdout",
          "output_type": "stream",
          "text": [
            "Relatório de classificação - modelo 2:\n",
            "              precision    recall  f1-score   support\n",
            "\n",
            "           0       0.87      0.82      0.85      5801\n",
            "           1       0.48      0.59      0.53      1650\n",
            "\n",
            "    accuracy                           0.77      7451\n",
            "   macro avg       0.68      0.70      0.69      7451\n",
            "weighted avg       0.79      0.77      0.78      7451\n",
            "\n",
            "AUC: 0.7025\n",
            "\n"
          ]
        },
        {
          "data": {
            "image/png": "[encoded data removed]",
            "text/plain": [
              "<Figure size 432x288 with 2 Axes>"
            ]
          },
          "metadata": {
            "needs_background": "light",
            "tags": []
          },
          "output_type": "display_data"
        }
      ],
      "source": [
        "from sklearn.svm import SVC\n",
        "\n",
        "# define model 2\n",
        "model_2 = SVC(C=1.5, random_state=1)\n",
        "\n",
        "# train model 2\n",
        "model_2.fit(X_train_final, y_train_final)\n",
        "\n",
        "# make predictions on the test set\n",
        "y_pred_2 = model_2.predict(X_test)\n",
        "\n",
        "# print classification report\n",
        "print(\"Relatório de classificação - modelo 2:\")\n",
        "print(classification_report(y_test, y_pred_2))\n",
        "\n",
        "# print AUC\n",
        "print(\"AUC: {:.4f}\\n\".format(roc_auc_score(y_test, y_pred_2)))\n",
        "\n",
        "# plot confusion matrix\n",
        "fig, ax = plt.subplots()\n",
        "sns.heatmap(confusion_matrix(y_test, y_pred_2, normalize='true'), annot=True, ax=ax)\n",
        "ax.set_title(\"Confusion matrix - model 2\")\n",
        "ax.set_ylabel(\"True\")\n",
        "ax.set_xlabel(\"Predicted\")\n",
        "plt.tight_layout()"
      ]
    },
    {
      "cell_type": "markdown",
      "metadata": {
        "id": "LsVaEmpwYuYC"
      },
      "source": [
        "## Wrapping up\n",
        "\n",
        "We have completed all the steps of a Machine Learning problem.\n",
        "\n",
        "We saw that the model trained on unbalanced data didn't have a good performance as we already expected. That reinforces the **importance of balancing the dataset for classification models**. There was a good improvement of the model using one of the 4 pairs of scaling and balancing techniques tested although all of them had very similar performances.\n",
        "\n",
        "The tree based models performed well on the test set but Random Forest didn't generalize well for test data.\n",
        "\n",
        "\n",
        "**SVC** was the final model. It showed similar performance on both train and test sets so it generalized well enough showing a **realistic and right performance**."
      ]
    }
  ],
  "metadata": {
    "colab": {
      "authorship_tag": "ABX9TyN+lDCwuDN4phHNKInh1RPl",
      "collapsed_sections": [],
      "include_colab_link": true,
      "name": "Credit Card Default Prediction.ipynb",
      "provenance": [],
      "toc_visible": true
    },
    "kernelspec": {
      "display_name": "Python 3",
      "name": "python3"
    },
    "language_info": {
      "name": "python"
    }
  },
  "nbformat": 4,
  "nbformat_minor": 0
}
